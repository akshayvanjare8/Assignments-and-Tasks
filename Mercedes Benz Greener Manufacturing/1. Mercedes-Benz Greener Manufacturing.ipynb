{
 "cells": [
  {
   "cell_type": "markdown",
   "id": "6950f37f",
   "metadata": {},
   "source": [
    "# 1. Mercedes-Benz Greener Manufacturing"
   ]
  },
  {
   "cell_type": "markdown",
   "id": "c46c793d",
   "metadata": {},
   "source": [
    "Step 1:- Import required libraries"
   ]
  },
  {
   "cell_type": "code",
   "execution_count": null,
   "id": "5fb35296",
   "metadata": {},
   "outputs": [
    {
     "name": "stdout",
     "output_type": "stream",
     "text": [
      "Collecting pandas\n",
      "  Downloading pandas-1.3.5.tar.gz (4.7 MB)\n",
      "\u001b[K     |████████████████████████████████| 4.7 MB 765 kB/s eta 0:00:01     |████████████████                | 2.4 MB 504 kB/s eta 0:00:05     |████████████████████▍           | 3.0 MB 504 kB/s eta 0:00:04\n",
      "\u001b[?25h  Installing build dependencies ... \u001b[?25l|"
     ]
    }
   ],
   "source": [
    "pip install pandas"
   ]
  },
  {
   "cell_type": "code",
   "execution_count": null,
   "id": "665651e4",
   "metadata": {},
   "outputs": [],
   "source": [
    "import pandas as pd\n",
    "import numpy as np\n",
    "import matplotlib.pyplot as plt"
   ]
  },
  {
   "cell_type": "markdown",
   "id": "c956dbc5",
   "metadata": {},
   "source": [
    "Step 2:- Import given dataset"
   ]
  },
  {
   "cell_type": "code",
   "execution_count": 2,
   "id": "0d0c6720",
   "metadata": {},
   "outputs": [
    {
     "ename": "NameError",
     "evalue": "name 'pd' is not defined",
     "output_type": "error",
     "traceback": [
      "\u001b[0;31m---------------------------------------------------------------------------\u001b[0m",
      "\u001b[0;31mNameError\u001b[0m                                 Traceback (most recent call last)",
      "\u001b[0;32m/data/user/0/ru.iiec.pydroid3/cache/ipykernel_19592/799685553.py\u001b[0m in \u001b[0;36m<module>\u001b[0;34m\u001b[0m\n\u001b[0;32m----> 1\u001b[0;31m \u001b[0mtest\u001b[0m \u001b[0;34m=\u001b[0m\u001b[0mpd\u001b[0m\u001b[0;34m.\u001b[0m\u001b[0mread_csv\u001b[0m\u001b[0;34m(\u001b[0m\u001b[0;34m'test.csv'\u001b[0m\u001b[0;34m)\u001b[0m\u001b[0;34m\u001b[0m\u001b[0;34m\u001b[0m\u001b[0m\n\u001b[0m",
      "\u001b[0;31mNameError\u001b[0m: name 'pd' is not defined"
     ]
    }
   ],
   "source": [
    "test =pd.read_csv('test.csv')"
   ]
  },
  {
   "cell_type": "code",
   "execution_count": 3,
   "id": "4433eafe",
   "metadata": {},
   "outputs": [
    {
     "data": {
      "text/html": [
       "<div>\n",
       "<style scoped>\n",
       "    .dataframe tbody tr th:only-of-type {\n",
       "        vertical-align: middle;\n",
       "    }\n",
       "\n",
       "    .dataframe tbody tr th {\n",
       "        vertical-align: top;\n",
       "    }\n",
       "\n",
       "    .dataframe thead th {\n",
       "        text-align: right;\n",
       "    }\n",
       "</style>\n",
       "<table border=\"1\" class=\"dataframe\">\n",
       "  <thead>\n",
       "    <tr style=\"text-align: right;\">\n",
       "      <th></th>\n",
       "      <th>ID</th>\n",
       "      <th>X0</th>\n",
       "      <th>X1</th>\n",
       "      <th>X2</th>\n",
       "      <th>X3</th>\n",
       "      <th>X4</th>\n",
       "      <th>X5</th>\n",
       "      <th>X6</th>\n",
       "      <th>X8</th>\n",
       "      <th>X10</th>\n",
       "      <th>...</th>\n",
       "      <th>X375</th>\n",
       "      <th>X376</th>\n",
       "      <th>X377</th>\n",
       "      <th>X378</th>\n",
       "      <th>X379</th>\n",
       "      <th>X380</th>\n",
       "      <th>X382</th>\n",
       "      <th>X383</th>\n",
       "      <th>X384</th>\n",
       "      <th>X385</th>\n",
       "    </tr>\n",
       "  </thead>\n",
       "  <tbody>\n",
       "    <tr>\n",
       "      <th>0</th>\n",
       "      <td>1</td>\n",
       "      <td>az</td>\n",
       "      <td>v</td>\n",
       "      <td>n</td>\n",
       "      <td>f</td>\n",
       "      <td>d</td>\n",
       "      <td>t</td>\n",
       "      <td>a</td>\n",
       "      <td>w</td>\n",
       "      <td>0</td>\n",
       "      <td>...</td>\n",
       "      <td>0</td>\n",
       "      <td>0</td>\n",
       "      <td>0</td>\n",
       "      <td>1</td>\n",
       "      <td>0</td>\n",
       "      <td>0</td>\n",
       "      <td>0</td>\n",
       "      <td>0</td>\n",
       "      <td>0</td>\n",
       "      <td>0</td>\n",
       "    </tr>\n",
       "    <tr>\n",
       "      <th>1</th>\n",
       "      <td>2</td>\n",
       "      <td>t</td>\n",
       "      <td>b</td>\n",
       "      <td>ai</td>\n",
       "      <td>a</td>\n",
       "      <td>d</td>\n",
       "      <td>b</td>\n",
       "      <td>g</td>\n",
       "      <td>y</td>\n",
       "      <td>0</td>\n",
       "      <td>...</td>\n",
       "      <td>0</td>\n",
       "      <td>0</td>\n",
       "      <td>1</td>\n",
       "      <td>0</td>\n",
       "      <td>0</td>\n",
       "      <td>0</td>\n",
       "      <td>0</td>\n",
       "      <td>0</td>\n",
       "      <td>0</td>\n",
       "      <td>0</td>\n",
       "    </tr>\n",
       "    <tr>\n",
       "      <th>2</th>\n",
       "      <td>3</td>\n",
       "      <td>az</td>\n",
       "      <td>v</td>\n",
       "      <td>as</td>\n",
       "      <td>f</td>\n",
       "      <td>d</td>\n",
       "      <td>a</td>\n",
       "      <td>j</td>\n",
       "      <td>j</td>\n",
       "      <td>0</td>\n",
       "      <td>...</td>\n",
       "      <td>0</td>\n",
       "      <td>0</td>\n",
       "      <td>0</td>\n",
       "      <td>1</td>\n",
       "      <td>0</td>\n",
       "      <td>0</td>\n",
       "      <td>0</td>\n",
       "      <td>0</td>\n",
       "      <td>0</td>\n",
       "      <td>0</td>\n",
       "    </tr>\n",
       "    <tr>\n",
       "      <th>3</th>\n",
       "      <td>4</td>\n",
       "      <td>az</td>\n",
       "      <td>l</td>\n",
       "      <td>n</td>\n",
       "      <td>f</td>\n",
       "      <td>d</td>\n",
       "      <td>z</td>\n",
       "      <td>l</td>\n",
       "      <td>n</td>\n",
       "      <td>0</td>\n",
       "      <td>...</td>\n",
       "      <td>0</td>\n",
       "      <td>0</td>\n",
       "      <td>0</td>\n",
       "      <td>1</td>\n",
       "      <td>0</td>\n",
       "      <td>0</td>\n",
       "      <td>0</td>\n",
       "      <td>0</td>\n",
       "      <td>0</td>\n",
       "      <td>0</td>\n",
       "    </tr>\n",
       "    <tr>\n",
       "      <th>4</th>\n",
       "      <td>5</td>\n",
       "      <td>w</td>\n",
       "      <td>s</td>\n",
       "      <td>as</td>\n",
       "      <td>c</td>\n",
       "      <td>d</td>\n",
       "      <td>y</td>\n",
       "      <td>i</td>\n",
       "      <td>m</td>\n",
       "      <td>0</td>\n",
       "      <td>...</td>\n",
       "      <td>1</td>\n",
       "      <td>0</td>\n",
       "      <td>0</td>\n",
       "      <td>0</td>\n",
       "      <td>0</td>\n",
       "      <td>0</td>\n",
       "      <td>0</td>\n",
       "      <td>0</td>\n",
       "      <td>0</td>\n",
       "      <td>0</td>\n",
       "    </tr>\n",
       "  </tbody>\n",
       "</table>\n",
       "<p>5 rows × 377 columns</p>\n",
       "</div>"
      ],
      "text/plain": [
       "   ID  X0 X1  X2 X3 X4 X5 X6 X8  X10  ...  X375  X376  X377  X378  X379  X380  \\\n",
       "0   1  az  v   n  f  d  t  a  w    0  ...     0     0     0     1     0     0   \n",
       "1   2   t  b  ai  a  d  b  g  y    0  ...     0     0     1     0     0     0   \n",
       "2   3  az  v  as  f  d  a  j  j    0  ...     0     0     0     1     0     0   \n",
       "3   4  az  l   n  f  d  z  l  n    0  ...     0     0     0     1     0     0   \n",
       "4   5   w  s  as  c  d  y  i  m    0  ...     1     0     0     0     0     0   \n",
       "\n",
       "   X382  X383  X384  X385  \n",
       "0     0     0     0     0  \n",
       "1     0     0     0     0  \n",
       "2     0     0     0     0  \n",
       "3     0     0     0     0  \n",
       "4     0     0     0     0  \n",
       "\n",
       "[5 rows x 377 columns]"
      ]
     },
     "execution_count": 3,
     "metadata": {},
     "output_type": "execute_result"
    }
   ],
   "source": [
    "test.head()"
   ]
  },
  {
   "cell_type": "code",
   "execution_count": 4,
   "id": "77674940",
   "metadata": {},
   "outputs": [],
   "source": [
    "train = pd.read_csv('train.csv')"
   ]
  },
  {
   "cell_type": "code",
   "execution_count": 5,
   "id": "ba35ab55",
   "metadata": {},
   "outputs": [
    {
     "data": {
      "text/html": [
       "<div>\n",
       "<style scoped>\n",
       "    .dataframe tbody tr th:only-of-type {\n",
       "        vertical-align: middle;\n",
       "    }\n",
       "\n",
       "    .dataframe tbody tr th {\n",
       "        vertical-align: top;\n",
       "    }\n",
       "\n",
       "    .dataframe thead th {\n",
       "        text-align: right;\n",
       "    }\n",
       "</style>\n",
       "<table border=\"1\" class=\"dataframe\">\n",
       "  <thead>\n",
       "    <tr style=\"text-align: right;\">\n",
       "      <th></th>\n",
       "      <th>ID</th>\n",
       "      <th>y</th>\n",
       "      <th>X0</th>\n",
       "      <th>X1</th>\n",
       "      <th>X2</th>\n",
       "      <th>X3</th>\n",
       "      <th>X4</th>\n",
       "      <th>X5</th>\n",
       "      <th>X6</th>\n",
       "      <th>X8</th>\n",
       "      <th>...</th>\n",
       "      <th>X375</th>\n",
       "      <th>X376</th>\n",
       "      <th>X377</th>\n",
       "      <th>X378</th>\n",
       "      <th>X379</th>\n",
       "      <th>X380</th>\n",
       "      <th>X382</th>\n",
       "      <th>X383</th>\n",
       "      <th>X384</th>\n",
       "      <th>X385</th>\n",
       "    </tr>\n",
       "  </thead>\n",
       "  <tbody>\n",
       "    <tr>\n",
       "      <th>0</th>\n",
       "      <td>0</td>\n",
       "      <td>130.81</td>\n",
       "      <td>k</td>\n",
       "      <td>v</td>\n",
       "      <td>at</td>\n",
       "      <td>a</td>\n",
       "      <td>d</td>\n",
       "      <td>u</td>\n",
       "      <td>j</td>\n",
       "      <td>o</td>\n",
       "      <td>...</td>\n",
       "      <td>0</td>\n",
       "      <td>0</td>\n",
       "      <td>1</td>\n",
       "      <td>0</td>\n",
       "      <td>0</td>\n",
       "      <td>0</td>\n",
       "      <td>0</td>\n",
       "      <td>0</td>\n",
       "      <td>0</td>\n",
       "      <td>0</td>\n",
       "    </tr>\n",
       "    <tr>\n",
       "      <th>1</th>\n",
       "      <td>6</td>\n",
       "      <td>88.53</td>\n",
       "      <td>k</td>\n",
       "      <td>t</td>\n",
       "      <td>av</td>\n",
       "      <td>e</td>\n",
       "      <td>d</td>\n",
       "      <td>y</td>\n",
       "      <td>l</td>\n",
       "      <td>o</td>\n",
       "      <td>...</td>\n",
       "      <td>1</td>\n",
       "      <td>0</td>\n",
       "      <td>0</td>\n",
       "      <td>0</td>\n",
       "      <td>0</td>\n",
       "      <td>0</td>\n",
       "      <td>0</td>\n",
       "      <td>0</td>\n",
       "      <td>0</td>\n",
       "      <td>0</td>\n",
       "    </tr>\n",
       "    <tr>\n",
       "      <th>2</th>\n",
       "      <td>7</td>\n",
       "      <td>76.26</td>\n",
       "      <td>az</td>\n",
       "      <td>w</td>\n",
       "      <td>n</td>\n",
       "      <td>c</td>\n",
       "      <td>d</td>\n",
       "      <td>x</td>\n",
       "      <td>j</td>\n",
       "      <td>x</td>\n",
       "      <td>...</td>\n",
       "      <td>0</td>\n",
       "      <td>0</td>\n",
       "      <td>0</td>\n",
       "      <td>0</td>\n",
       "      <td>0</td>\n",
       "      <td>0</td>\n",
       "      <td>1</td>\n",
       "      <td>0</td>\n",
       "      <td>0</td>\n",
       "      <td>0</td>\n",
       "    </tr>\n",
       "    <tr>\n",
       "      <th>3</th>\n",
       "      <td>9</td>\n",
       "      <td>80.62</td>\n",
       "      <td>az</td>\n",
       "      <td>t</td>\n",
       "      <td>n</td>\n",
       "      <td>f</td>\n",
       "      <td>d</td>\n",
       "      <td>x</td>\n",
       "      <td>l</td>\n",
       "      <td>e</td>\n",
       "      <td>...</td>\n",
       "      <td>0</td>\n",
       "      <td>0</td>\n",
       "      <td>0</td>\n",
       "      <td>0</td>\n",
       "      <td>0</td>\n",
       "      <td>0</td>\n",
       "      <td>0</td>\n",
       "      <td>0</td>\n",
       "      <td>0</td>\n",
       "      <td>0</td>\n",
       "    </tr>\n",
       "    <tr>\n",
       "      <th>4</th>\n",
       "      <td>13</td>\n",
       "      <td>78.02</td>\n",
       "      <td>az</td>\n",
       "      <td>v</td>\n",
       "      <td>n</td>\n",
       "      <td>f</td>\n",
       "      <td>d</td>\n",
       "      <td>h</td>\n",
       "      <td>d</td>\n",
       "      <td>n</td>\n",
       "      <td>...</td>\n",
       "      <td>0</td>\n",
       "      <td>0</td>\n",
       "      <td>0</td>\n",
       "      <td>0</td>\n",
       "      <td>0</td>\n",
       "      <td>0</td>\n",
       "      <td>0</td>\n",
       "      <td>0</td>\n",
       "      <td>0</td>\n",
       "      <td>0</td>\n",
       "    </tr>\n",
       "  </tbody>\n",
       "</table>\n",
       "<p>5 rows × 378 columns</p>\n",
       "</div>"
      ],
      "text/plain": [
       "   ID       y  X0 X1  X2 X3 X4 X5 X6 X8  ...  X375  X376  X377  X378  X379  \\\n",
       "0   0  130.81   k  v  at  a  d  u  j  o  ...     0     0     1     0     0   \n",
       "1   6   88.53   k  t  av  e  d  y  l  o  ...     1     0     0     0     0   \n",
       "2   7   76.26  az  w   n  c  d  x  j  x  ...     0     0     0     0     0   \n",
       "3   9   80.62  az  t   n  f  d  x  l  e  ...     0     0     0     0     0   \n",
       "4  13   78.02  az  v   n  f  d  h  d  n  ...     0     0     0     0     0   \n",
       "\n",
       "   X380  X382  X383  X384  X385  \n",
       "0     0     0     0     0     0  \n",
       "1     0     0     0     0     0  \n",
       "2     0     1     0     0     0  \n",
       "3     0     0     0     0     0  \n",
       "4     0     0     0     0     0  \n",
       "\n",
       "[5 rows x 378 columns]"
      ]
     },
     "execution_count": 5,
     "metadata": {},
     "output_type": "execute_result"
    }
   ],
   "source": [
    "train.head()"
   ]
  },
  {
   "cell_type": "code",
   "execution_count": 6,
   "id": "c0467c55",
   "metadata": {},
   "outputs": [],
   "source": [
    "df = pd.concat([test, train])"
   ]
  },
  {
   "cell_type": "code",
   "execution_count": 7,
   "id": "1a7e70ea",
   "metadata": {},
   "outputs": [
    {
     "data": {
      "text/html": [
       "<div>\n",
       "<style scoped>\n",
       "    .dataframe tbody tr th:only-of-type {\n",
       "        vertical-align: middle;\n",
       "    }\n",
       "\n",
       "    .dataframe tbody tr th {\n",
       "        vertical-align: top;\n",
       "    }\n",
       "\n",
       "    .dataframe thead th {\n",
       "        text-align: right;\n",
       "    }\n",
       "</style>\n",
       "<table border=\"1\" class=\"dataframe\">\n",
       "  <thead>\n",
       "    <tr style=\"text-align: right;\">\n",
       "      <th></th>\n",
       "      <th>ID</th>\n",
       "      <th>X0</th>\n",
       "      <th>X1</th>\n",
       "      <th>X2</th>\n",
       "      <th>X3</th>\n",
       "      <th>X4</th>\n",
       "      <th>X5</th>\n",
       "      <th>X6</th>\n",
       "      <th>X8</th>\n",
       "      <th>X10</th>\n",
       "      <th>...</th>\n",
       "      <th>X376</th>\n",
       "      <th>X377</th>\n",
       "      <th>X378</th>\n",
       "      <th>X379</th>\n",
       "      <th>X380</th>\n",
       "      <th>X382</th>\n",
       "      <th>X383</th>\n",
       "      <th>X384</th>\n",
       "      <th>X385</th>\n",
       "      <th>y</th>\n",
       "    </tr>\n",
       "  </thead>\n",
       "  <tbody>\n",
       "    <tr>\n",
       "      <th>0</th>\n",
       "      <td>1</td>\n",
       "      <td>az</td>\n",
       "      <td>v</td>\n",
       "      <td>n</td>\n",
       "      <td>f</td>\n",
       "      <td>d</td>\n",
       "      <td>t</td>\n",
       "      <td>a</td>\n",
       "      <td>w</td>\n",
       "      <td>0</td>\n",
       "      <td>...</td>\n",
       "      <td>0</td>\n",
       "      <td>0</td>\n",
       "      <td>1</td>\n",
       "      <td>0</td>\n",
       "      <td>0</td>\n",
       "      <td>0</td>\n",
       "      <td>0</td>\n",
       "      <td>0</td>\n",
       "      <td>0</td>\n",
       "      <td>NaN</td>\n",
       "    </tr>\n",
       "    <tr>\n",
       "      <th>1</th>\n",
       "      <td>2</td>\n",
       "      <td>t</td>\n",
       "      <td>b</td>\n",
       "      <td>ai</td>\n",
       "      <td>a</td>\n",
       "      <td>d</td>\n",
       "      <td>b</td>\n",
       "      <td>g</td>\n",
       "      <td>y</td>\n",
       "      <td>0</td>\n",
       "      <td>...</td>\n",
       "      <td>0</td>\n",
       "      <td>1</td>\n",
       "      <td>0</td>\n",
       "      <td>0</td>\n",
       "      <td>0</td>\n",
       "      <td>0</td>\n",
       "      <td>0</td>\n",
       "      <td>0</td>\n",
       "      <td>0</td>\n",
       "      <td>NaN</td>\n",
       "    </tr>\n",
       "    <tr>\n",
       "      <th>2</th>\n",
       "      <td>3</td>\n",
       "      <td>az</td>\n",
       "      <td>v</td>\n",
       "      <td>as</td>\n",
       "      <td>f</td>\n",
       "      <td>d</td>\n",
       "      <td>a</td>\n",
       "      <td>j</td>\n",
       "      <td>j</td>\n",
       "      <td>0</td>\n",
       "      <td>...</td>\n",
       "      <td>0</td>\n",
       "      <td>0</td>\n",
       "      <td>1</td>\n",
       "      <td>0</td>\n",
       "      <td>0</td>\n",
       "      <td>0</td>\n",
       "      <td>0</td>\n",
       "      <td>0</td>\n",
       "      <td>0</td>\n",
       "      <td>NaN</td>\n",
       "    </tr>\n",
       "    <tr>\n",
       "      <th>3</th>\n",
       "      <td>4</td>\n",
       "      <td>az</td>\n",
       "      <td>l</td>\n",
       "      <td>n</td>\n",
       "      <td>f</td>\n",
       "      <td>d</td>\n",
       "      <td>z</td>\n",
       "      <td>l</td>\n",
       "      <td>n</td>\n",
       "      <td>0</td>\n",
       "      <td>...</td>\n",
       "      <td>0</td>\n",
       "      <td>0</td>\n",
       "      <td>1</td>\n",
       "      <td>0</td>\n",
       "      <td>0</td>\n",
       "      <td>0</td>\n",
       "      <td>0</td>\n",
       "      <td>0</td>\n",
       "      <td>0</td>\n",
       "      <td>NaN</td>\n",
       "    </tr>\n",
       "    <tr>\n",
       "      <th>4</th>\n",
       "      <td>5</td>\n",
       "      <td>w</td>\n",
       "      <td>s</td>\n",
       "      <td>as</td>\n",
       "      <td>c</td>\n",
       "      <td>d</td>\n",
       "      <td>y</td>\n",
       "      <td>i</td>\n",
       "      <td>m</td>\n",
       "      <td>0</td>\n",
       "      <td>...</td>\n",
       "      <td>0</td>\n",
       "      <td>0</td>\n",
       "      <td>0</td>\n",
       "      <td>0</td>\n",
       "      <td>0</td>\n",
       "      <td>0</td>\n",
       "      <td>0</td>\n",
       "      <td>0</td>\n",
       "      <td>0</td>\n",
       "      <td>NaN</td>\n",
       "    </tr>\n",
       "  </tbody>\n",
       "</table>\n",
       "<p>5 rows × 378 columns</p>\n",
       "</div>"
      ],
      "text/plain": [
       "   ID  X0 X1  X2 X3 X4 X5 X6 X8  X10  ...  X376  X377  X378  X379  X380  X382  \\\n",
       "0   1  az  v   n  f  d  t  a  w    0  ...     0     0     1     0     0     0   \n",
       "1   2   t  b  ai  a  d  b  g  y    0  ...     0     1     0     0     0     0   \n",
       "2   3  az  v  as  f  d  a  j  j    0  ...     0     0     1     0     0     0   \n",
       "3   4  az  l   n  f  d  z  l  n    0  ...     0     0     1     0     0     0   \n",
       "4   5   w  s  as  c  d  y  i  m    0  ...     0     0     0     0     0     0   \n",
       "\n",
       "   X383  X384  X385   y  \n",
       "0     0     0     0 NaN  \n",
       "1     0     0     0 NaN  \n",
       "2     0     0     0 NaN  \n",
       "3     0     0     0 NaN  \n",
       "4     0     0     0 NaN  \n",
       "\n",
       "[5 rows x 378 columns]"
      ]
     },
     "execution_count": 7,
     "metadata": {},
     "output_type": "execute_result"
    }
   ],
   "source": [
    "df.head()"
   ]
  },
  {
   "cell_type": "code",
   "execution_count": 8,
   "id": "39a00fa7",
   "metadata": {},
   "outputs": [
    {
     "data": {
      "text/html": [
       "<div>\n",
       "<style scoped>\n",
       "    .dataframe tbody tr th:only-of-type {\n",
       "        vertical-align: middle;\n",
       "    }\n",
       "\n",
       "    .dataframe tbody tr th {\n",
       "        vertical-align: top;\n",
       "    }\n",
       "\n",
       "    .dataframe thead th {\n",
       "        text-align: right;\n",
       "    }\n",
       "</style>\n",
       "<table border=\"1\" class=\"dataframe\">\n",
       "  <thead>\n",
       "    <tr style=\"text-align: right;\">\n",
       "      <th></th>\n",
       "      <th>ID</th>\n",
       "      <th>X10</th>\n",
       "      <th>X11</th>\n",
       "      <th>X12</th>\n",
       "      <th>X13</th>\n",
       "      <th>X14</th>\n",
       "      <th>X15</th>\n",
       "      <th>X16</th>\n",
       "      <th>X17</th>\n",
       "      <th>X18</th>\n",
       "      <th>...</th>\n",
       "      <th>X376</th>\n",
       "      <th>X377</th>\n",
       "      <th>X378</th>\n",
       "      <th>X379</th>\n",
       "      <th>X380</th>\n",
       "      <th>X382</th>\n",
       "      <th>X383</th>\n",
       "      <th>X384</th>\n",
       "      <th>X385</th>\n",
       "      <th>y</th>\n",
       "    </tr>\n",
       "  </thead>\n",
       "  <tbody>\n",
       "    <tr>\n",
       "      <th>count</th>\n",
       "      <td>8418.000000</td>\n",
       "      <td>8418.000000</td>\n",
       "      <td>8418.000000</td>\n",
       "      <td>8418.000000</td>\n",
       "      <td>8418.000000</td>\n",
       "      <td>8418.000000</td>\n",
       "      <td>8418.000000</td>\n",
       "      <td>8418.000000</td>\n",
       "      <td>8418.000000</td>\n",
       "      <td>8418.000000</td>\n",
       "      <td>...</td>\n",
       "      <td>8418.000000</td>\n",
       "      <td>8418.000000</td>\n",
       "      <td>8418.000000</td>\n",
       "      <td>8418.000000</td>\n",
       "      <td>8418.000000</td>\n",
       "      <td>8418.000000</td>\n",
       "      <td>8418.000000</td>\n",
       "      <td>8418.000000</td>\n",
       "      <td>8418.000000</td>\n",
       "      <td>4209.000000</td>\n",
       "    </tr>\n",
       "    <tr>\n",
       "      <th>mean</th>\n",
       "      <td>4208.500000</td>\n",
       "      <td>0.016156</td>\n",
       "      <td>0.000119</td>\n",
       "      <td>0.074721</td>\n",
       "      <td>0.059515</td>\n",
       "      <td>0.428011</td>\n",
       "      <td>0.000594</td>\n",
       "      <td>0.002613</td>\n",
       "      <td>0.008197</td>\n",
       "      <td>0.009028</td>\n",
       "      <td>...</td>\n",
       "      <td>0.053457</td>\n",
       "      <td>0.313376</td>\n",
       "      <td>0.019957</td>\n",
       "      <td>0.010691</td>\n",
       "      <td>0.008078</td>\n",
       "      <td>0.008197</td>\n",
       "      <td>0.001069</td>\n",
       "      <td>0.000594</td>\n",
       "      <td>0.001544</td>\n",
       "      <td>100.669318</td>\n",
       "    </tr>\n",
       "    <tr>\n",
       "      <th>std</th>\n",
       "      <td>2430.211616</td>\n",
       "      <td>0.126082</td>\n",
       "      <td>0.010899</td>\n",
       "      <td>0.262956</td>\n",
       "      <td>0.236601</td>\n",
       "      <td>0.494820</td>\n",
       "      <td>0.024366</td>\n",
       "      <td>0.051058</td>\n",
       "      <td>0.090169</td>\n",
       "      <td>0.094593</td>\n",
       "      <td>...</td>\n",
       "      <td>0.224956</td>\n",
       "      <td>0.463893</td>\n",
       "      <td>0.139862</td>\n",
       "      <td>0.102851</td>\n",
       "      <td>0.089519</td>\n",
       "      <td>0.090169</td>\n",
       "      <td>0.032682</td>\n",
       "      <td>0.024366</td>\n",
       "      <td>0.039270</td>\n",
       "      <td>12.679381</td>\n",
       "    </tr>\n",
       "    <tr>\n",
       "      <th>min</th>\n",
       "      <td>0.000000</td>\n",
       "      <td>0.000000</td>\n",
       "      <td>0.000000</td>\n",
       "      <td>0.000000</td>\n",
       "      <td>0.000000</td>\n",
       "      <td>0.000000</td>\n",
       "      <td>0.000000</td>\n",
       "      <td>0.000000</td>\n",
       "      <td>0.000000</td>\n",
       "      <td>0.000000</td>\n",
       "      <td>...</td>\n",
       "      <td>0.000000</td>\n",
       "      <td>0.000000</td>\n",
       "      <td>0.000000</td>\n",
       "      <td>0.000000</td>\n",
       "      <td>0.000000</td>\n",
       "      <td>0.000000</td>\n",
       "      <td>0.000000</td>\n",
       "      <td>0.000000</td>\n",
       "      <td>0.000000</td>\n",
       "      <td>72.110000</td>\n",
       "    </tr>\n",
       "    <tr>\n",
       "      <th>25%</th>\n",
       "      <td>2104.250000</td>\n",
       "      <td>0.000000</td>\n",
       "      <td>0.000000</td>\n",
       "      <td>0.000000</td>\n",
       "      <td>0.000000</td>\n",
       "      <td>0.000000</td>\n",
       "      <td>0.000000</td>\n",
       "      <td>0.000000</td>\n",
       "      <td>0.000000</td>\n",
       "      <td>0.000000</td>\n",
       "      <td>...</td>\n",
       "      <td>0.000000</td>\n",
       "      <td>0.000000</td>\n",
       "      <td>0.000000</td>\n",
       "      <td>0.000000</td>\n",
       "      <td>0.000000</td>\n",
       "      <td>0.000000</td>\n",
       "      <td>0.000000</td>\n",
       "      <td>0.000000</td>\n",
       "      <td>0.000000</td>\n",
       "      <td>90.820000</td>\n",
       "    </tr>\n",
       "    <tr>\n",
       "      <th>50%</th>\n",
       "      <td>4208.500000</td>\n",
       "      <td>0.000000</td>\n",
       "      <td>0.000000</td>\n",
       "      <td>0.000000</td>\n",
       "      <td>0.000000</td>\n",
       "      <td>0.000000</td>\n",
       "      <td>0.000000</td>\n",
       "      <td>0.000000</td>\n",
       "      <td>0.000000</td>\n",
       "      <td>0.000000</td>\n",
       "      <td>...</td>\n",
       "      <td>0.000000</td>\n",
       "      <td>0.000000</td>\n",
       "      <td>0.000000</td>\n",
       "      <td>0.000000</td>\n",
       "      <td>0.000000</td>\n",
       "      <td>0.000000</td>\n",
       "      <td>0.000000</td>\n",
       "      <td>0.000000</td>\n",
       "      <td>0.000000</td>\n",
       "      <td>99.150000</td>\n",
       "    </tr>\n",
       "    <tr>\n",
       "      <th>75%</th>\n",
       "      <td>6312.750000</td>\n",
       "      <td>0.000000</td>\n",
       "      <td>0.000000</td>\n",
       "      <td>0.000000</td>\n",
       "      <td>0.000000</td>\n",
       "      <td>1.000000</td>\n",
       "      <td>0.000000</td>\n",
       "      <td>0.000000</td>\n",
       "      <td>0.000000</td>\n",
       "      <td>0.000000</td>\n",
       "      <td>...</td>\n",
       "      <td>0.000000</td>\n",
       "      <td>1.000000</td>\n",
       "      <td>0.000000</td>\n",
       "      <td>0.000000</td>\n",
       "      <td>0.000000</td>\n",
       "      <td>0.000000</td>\n",
       "      <td>0.000000</td>\n",
       "      <td>0.000000</td>\n",
       "      <td>0.000000</td>\n",
       "      <td>109.010000</td>\n",
       "    </tr>\n",
       "    <tr>\n",
       "      <th>max</th>\n",
       "      <td>8417.000000</td>\n",
       "      <td>1.000000</td>\n",
       "      <td>1.000000</td>\n",
       "      <td>1.000000</td>\n",
       "      <td>1.000000</td>\n",
       "      <td>1.000000</td>\n",
       "      <td>1.000000</td>\n",
       "      <td>1.000000</td>\n",
       "      <td>1.000000</td>\n",
       "      <td>1.000000</td>\n",
       "      <td>...</td>\n",
       "      <td>1.000000</td>\n",
       "      <td>1.000000</td>\n",
       "      <td>1.000000</td>\n",
       "      <td>1.000000</td>\n",
       "      <td>1.000000</td>\n",
       "      <td>1.000000</td>\n",
       "      <td>1.000000</td>\n",
       "      <td>1.000000</td>\n",
       "      <td>1.000000</td>\n",
       "      <td>265.320000</td>\n",
       "    </tr>\n",
       "  </tbody>\n",
       "</table>\n",
       "<p>8 rows × 370 columns</p>\n",
       "</div>"
      ],
      "text/plain": [
       "                ID          X10          X11          X12          X13  \\\n",
       "count  8418.000000  8418.000000  8418.000000  8418.000000  8418.000000   \n",
       "mean   4208.500000     0.016156     0.000119     0.074721     0.059515   \n",
       "std    2430.211616     0.126082     0.010899     0.262956     0.236601   \n",
       "min       0.000000     0.000000     0.000000     0.000000     0.000000   \n",
       "25%    2104.250000     0.000000     0.000000     0.000000     0.000000   \n",
       "50%    4208.500000     0.000000     0.000000     0.000000     0.000000   \n",
       "75%    6312.750000     0.000000     0.000000     0.000000     0.000000   \n",
       "max    8417.000000     1.000000     1.000000     1.000000     1.000000   \n",
       "\n",
       "               X14          X15          X16          X17          X18  ...  \\\n",
       "count  8418.000000  8418.000000  8418.000000  8418.000000  8418.000000  ...   \n",
       "mean      0.428011     0.000594     0.002613     0.008197     0.009028  ...   \n",
       "std       0.494820     0.024366     0.051058     0.090169     0.094593  ...   \n",
       "min       0.000000     0.000000     0.000000     0.000000     0.000000  ...   \n",
       "25%       0.000000     0.000000     0.000000     0.000000     0.000000  ...   \n",
       "50%       0.000000     0.000000     0.000000     0.000000     0.000000  ...   \n",
       "75%       1.000000     0.000000     0.000000     0.000000     0.000000  ...   \n",
       "max       1.000000     1.000000     1.000000     1.000000     1.000000  ...   \n",
       "\n",
       "              X376         X377         X378         X379         X380  \\\n",
       "count  8418.000000  8418.000000  8418.000000  8418.000000  8418.000000   \n",
       "mean      0.053457     0.313376     0.019957     0.010691     0.008078   \n",
       "std       0.224956     0.463893     0.139862     0.102851     0.089519   \n",
       "min       0.000000     0.000000     0.000000     0.000000     0.000000   \n",
       "25%       0.000000     0.000000     0.000000     0.000000     0.000000   \n",
       "50%       0.000000     0.000000     0.000000     0.000000     0.000000   \n",
       "75%       0.000000     1.000000     0.000000     0.000000     0.000000   \n",
       "max       1.000000     1.000000     1.000000     1.000000     1.000000   \n",
       "\n",
       "              X382         X383         X384         X385            y  \n",
       "count  8418.000000  8418.000000  8418.000000  8418.000000  4209.000000  \n",
       "mean      0.008197     0.001069     0.000594     0.001544   100.669318  \n",
       "std       0.090169     0.032682     0.024366     0.039270    12.679381  \n",
       "min       0.000000     0.000000     0.000000     0.000000    72.110000  \n",
       "25%       0.000000     0.000000     0.000000     0.000000    90.820000  \n",
       "50%       0.000000     0.000000     0.000000     0.000000    99.150000  \n",
       "75%       0.000000     0.000000     0.000000     0.000000   109.010000  \n",
       "max       1.000000     1.000000     1.000000     1.000000   265.320000  \n",
       "\n",
       "[8 rows x 370 columns]"
      ]
     },
     "execution_count": 8,
     "metadata": {},
     "output_type": "execute_result"
    }
   ],
   "source": [
    "df.describe()"
   ]
  },
  {
   "cell_type": "markdown",
   "id": "67cc8b1c",
   "metadata": {},
   "source": [
    "Q1. If for any column(s), the variance is equal to zero, then you need to remove\n",
    "those variable(s)."
   ]
  },
  {
   "cell_type": "code",
   "execution_count": 9,
   "id": "3a354f2a",
   "metadata": {},
   "outputs": [
    {
     "name": "stderr",
     "output_type": "stream",
     "text": [
      "C:\\Users\\samar\\AppData\\Local\\Temp/ipykernel_19864/439990033.py:1: FutureWarning: Dropping of nuisance columns in DataFrame reductions (with 'numeric_only=None') is deprecated; in a future version this will raise TypeError.  Select only valid columns before calling the reduction.\n",
      "  var = df.var()\n"
     ]
    }
   ],
   "source": [
    "var = df.var()"
   ]
  },
  {
   "cell_type": "code",
   "execution_count": 10,
   "id": "6ac492c7",
   "metadata": {},
   "outputs": [],
   "source": [
    "var = pd.DataFrame(var)"
   ]
  },
  {
   "cell_type": "code",
   "execution_count": 11,
   "id": "499e5f28",
   "metadata": {},
   "outputs": [
    {
     "data": {
      "text/plain": [
       "0"
      ]
     },
     "execution_count": 11,
     "metadata": {},
     "output_type": "execute_result"
    }
   ],
   "source": [
    "var[var[0]==0].shape[0]"
   ]
  },
  {
   "cell_type": "code",
   "execution_count": 12,
   "id": "c3b434d0",
   "metadata": {},
   "outputs": [
    {
     "data": {
      "text/html": [
       "<div>\n",
       "<style scoped>\n",
       "    .dataframe tbody tr th:only-of-type {\n",
       "        vertical-align: middle;\n",
       "    }\n",
       "\n",
       "    .dataframe tbody tr th {\n",
       "        vertical-align: top;\n",
       "    }\n",
       "\n",
       "    .dataframe thead th {\n",
       "        text-align: right;\n",
       "    }\n",
       "</style>\n",
       "<table border=\"1\" class=\"dataframe\">\n",
       "  <thead>\n",
       "    <tr style=\"text-align: right;\">\n",
       "      <th></th>\n",
       "      <th>0</th>\n",
       "    </tr>\n",
       "  </thead>\n",
       "  <tbody>\n",
       "    <tr>\n",
       "      <th>X257</th>\n",
       "      <td>1.187931e-04</td>\n",
       "    </tr>\n",
       "    <tr>\n",
       "      <th>X295</th>\n",
       "      <td>1.187931e-04</td>\n",
       "    </tr>\n",
       "    <tr>\n",
       "      <th>X296</th>\n",
       "      <td>1.187931e-04</td>\n",
       "    </tr>\n",
       "    <tr>\n",
       "      <th>X233</th>\n",
       "      <td>1.187931e-04</td>\n",
       "    </tr>\n",
       "    <tr>\n",
       "      <th>X293</th>\n",
       "      <td>1.187931e-04</td>\n",
       "    </tr>\n",
       "    <tr>\n",
       "      <th>...</th>\n",
       "      <td>...</td>\n",
       "    </tr>\n",
       "    <tr>\n",
       "      <th>X337</th>\n",
       "      <td>2.495571e-01</td>\n",
       "    </tr>\n",
       "    <tr>\n",
       "      <th>X362</th>\n",
       "      <td>2.496639e-01</td>\n",
       "    </tr>\n",
       "    <tr>\n",
       "      <th>X127</th>\n",
       "      <td>2.499416e-01</td>\n",
       "    </tr>\n",
       "    <tr>\n",
       "      <th>y</th>\n",
       "      <td>1.607667e+02</td>\n",
       "    </tr>\n",
       "    <tr>\n",
       "      <th>ID</th>\n",
       "      <td>5.905928e+06</td>\n",
       "    </tr>\n",
       "  </tbody>\n",
       "</table>\n",
       "<p>370 rows × 1 columns</p>\n",
       "</div>"
      ],
      "text/plain": [
       "                 0\n",
       "X257  1.187931e-04\n",
       "X295  1.187931e-04\n",
       "X296  1.187931e-04\n",
       "X233  1.187931e-04\n",
       "X293  1.187931e-04\n",
       "...            ...\n",
       "X337  2.495571e-01\n",
       "X362  2.496639e-01\n",
       "X127  2.499416e-01\n",
       "y     1.607667e+02\n",
       "ID    5.905928e+06\n",
       "\n",
       "[370 rows x 1 columns]"
      ]
     },
     "execution_count": 12,
     "metadata": {},
     "output_type": "execute_result"
    }
   ],
   "source": [
    "var.sort_values('ascending' == True)"
   ]
  },
  {
   "cell_type": "markdown",
   "id": "232f05dd",
   "metadata": {},
   "source": [
    "Interpretation : In this dataset no column contain varience as 0"
   ]
  },
  {
   "cell_type": "markdown",
   "id": "275fe67a",
   "metadata": {},
   "source": [
    "Q2.Check for null and unique values for test and train sets."
   ]
  },
  {
   "cell_type": "code",
   "execution_count": 13,
   "id": "33edf838",
   "metadata": {},
   "outputs": [
    {
     "data": {
      "text/plain": [
       "ID      0\n",
       "X0      0\n",
       "X1      0\n",
       "X2      0\n",
       "X3      0\n",
       "       ..\n",
       "X380    0\n",
       "X382    0\n",
       "X383    0\n",
       "X384    0\n",
       "X385    0\n",
       "Length: 377, dtype: int64"
      ]
     },
     "execution_count": 13,
     "metadata": {},
     "output_type": "execute_result"
    }
   ],
   "source": [
    "test.isnull().sum()"
   ]
  },
  {
   "cell_type": "code",
   "execution_count": 14,
   "id": "055b605a",
   "metadata": {},
   "outputs": [
    {
     "data": {
      "text/plain": [
       "0"
      ]
     },
     "execution_count": 14,
     "metadata": {},
     "output_type": "execute_result"
    }
   ],
   "source": [
    "test.isnull().sum().max()"
   ]
  },
  {
   "cell_type": "code",
   "execution_count": 15,
   "id": "288645ba",
   "metadata": {},
   "outputs": [
    {
     "data": {
      "text/plain": [
       "ID      0\n",
       "y       0\n",
       "X0      0\n",
       "X1      0\n",
       "X2      0\n",
       "       ..\n",
       "X380    0\n",
       "X382    0\n",
       "X383    0\n",
       "X384    0\n",
       "X385    0\n",
       "Length: 378, dtype: int64"
      ]
     },
     "execution_count": 15,
     "metadata": {},
     "output_type": "execute_result"
    }
   ],
   "source": [
    "train.isnull().sum()"
   ]
  },
  {
   "cell_type": "code",
   "execution_count": 16,
   "id": "fb8c8836",
   "metadata": {},
   "outputs": [
    {
     "data": {
      "text/plain": [
       "0"
      ]
     },
     "execution_count": 16,
     "metadata": {},
     "output_type": "execute_result"
    }
   ],
   "source": [
    "train.isnull().sum().max()"
   ]
  },
  {
   "cell_type": "markdown",
   "id": "93f5629d",
   "metadata": {},
   "source": [
    "Interpritation : In this data set both train & test dataset does not contain null values"
   ]
  },
  {
   "cell_type": "code",
   "execution_count": 17,
   "id": "f8d0b647",
   "metadata": {},
   "outputs": [
    {
     "data": {
      "text/plain": [
       "ID      4209\n",
       "X0        49\n",
       "X1        27\n",
       "X2        45\n",
       "X3         7\n",
       "        ... \n",
       "X380       2\n",
       "X382       2\n",
       "X383       2\n",
       "X384       2\n",
       "X385       2\n",
       "Length: 377, dtype: int64"
      ]
     },
     "execution_count": 17,
     "metadata": {},
     "output_type": "execute_result"
    }
   ],
   "source": [
    "test.nunique()"
   ]
  },
  {
   "cell_type": "code",
   "execution_count": 18,
   "id": "dc38ae45",
   "metadata": {},
   "outputs": [
    {
     "data": {
      "text/plain": [
       "ID      4209\n",
       "y       2545\n",
       "X0        47\n",
       "X1        27\n",
       "X2        44\n",
       "        ... \n",
       "X380       2\n",
       "X382       2\n",
       "X383       2\n",
       "X384       2\n",
       "X385       2\n",
       "Length: 378, dtype: int64"
      ]
     },
     "execution_count": 18,
     "metadata": {},
     "output_type": "execute_result"
    }
   ],
   "source": [
    "train.nunique()"
   ]
  },
  {
   "cell_type": "markdown",
   "id": "0fa42741",
   "metadata": {},
   "source": [
    "Q3.Apply label encoder."
   ]
  },
  {
   "cell_type": "code",
   "execution_count": 19,
   "id": "bd8d226b",
   "metadata": {},
   "outputs": [],
   "source": [
    "from sklearn.preprocessing import LabelEncoder"
   ]
  },
  {
   "cell_type": "code",
   "execution_count": 20,
   "id": "81beb71b",
   "metadata": {},
   "outputs": [],
   "source": [
    "le=LabelEncoder()"
   ]
  },
  {
   "cell_type": "code",
   "execution_count": 21,
   "id": "0b733924",
   "metadata": {},
   "outputs": [],
   "source": [
    "# encode multipal col \n",
    "\n",
    "test[['X0','X1','X2','X3','X4','X5','X6','X8']]=test[['X0','X1','X2','X3','X4','X5','X6','X8']].apply(le.fit_transform)"
   ]
  },
  {
   "cell_type": "code",
   "execution_count": 22,
   "id": "3f92df4a",
   "metadata": {},
   "outputs": [
    {
     "name": "stdout",
     "output_type": "stream",
     "text": [
      "      X0  X1  X2  X3  X4  X5  X6  X8\n",
      "0     21  23  34   5   3  26   0  22\n",
      "1     42   3   8   0   3   9   6  24\n",
      "2     21  23  17   5   3   0   9   9\n",
      "3     21  13  34   5   3  31  11  13\n",
      "4     45  20  17   2   3  30   8  12\n",
      "...   ..  ..  ..  ..  ..  ..  ..  ..\n",
      "4204   6   9  17   5   3   1   9   4\n",
      "4205  42   1   8   3   3   1   9  24\n",
      "4206  47  23  17   5   3   1   3  22\n",
      "4207   7  23  17   0   3   1   2  16\n",
      "4208  42   1   8   2   3   1   6  17\n",
      "\n",
      "[4209 rows x 8 columns]\n"
     ]
    }
   ],
   "source": [
    "print(test[['X0','X1','X2','X3','X4','X5','X6','X8']])"
   ]
  },
  {
   "cell_type": "code",
   "execution_count": 23,
   "id": "f5bfd302",
   "metadata": {},
   "outputs": [],
   "source": [
    "train[['X0','X1','X2','X3','X4','X5','X6','X8']] = test[['X0','X1','X2','X3','X4','X5','X6','X8']].apply(le.fit_transform)"
   ]
  },
  {
   "cell_type": "code",
   "execution_count": 24,
   "id": "3e9767a7",
   "metadata": {},
   "outputs": [
    {
     "name": "stdout",
     "output_type": "stream",
     "text": [
      "      X0  X1  X2  X3  X4  X5  X6  X8\n",
      "0     21  23  34   5   3  26   0  22\n",
      "1     42   3   8   0   3   9   6  24\n",
      "2     21  23  17   5   3   0   9   9\n",
      "3     21  13  34   5   3  31  11  13\n",
      "4     45  20  17   2   3  30   8  12\n",
      "...   ..  ..  ..  ..  ..  ..  ..  ..\n",
      "4204   6   9  17   5   3   1   9   4\n",
      "4205  42   1   8   3   3   1   9  24\n",
      "4206  47  23  17   5   3   1   3  22\n",
      "4207   7  23  17   0   3   1   2  16\n",
      "4208  42   1   8   2   3   1   6  17\n",
      "\n",
      "[4209 rows x 8 columns]\n"
     ]
    }
   ],
   "source": [
    "print(train[['X0','X1','X2','X3','X4','X5','X6','X8']])"
   ]
  },
  {
   "cell_type": "markdown",
   "id": "5482c589",
   "metadata": {},
   "source": [
    "Q4.Perform diamensionally reduction"
   ]
  },
  {
   "cell_type": "code",
   "execution_count": 25,
   "id": "66e3b9f3",
   "metadata": {},
   "outputs": [],
   "source": [
    "x = train.drop(columns = [\"y\"])\n",
    "y = train[\"y\"]"
   ]
  },
  {
   "cell_type": "code",
   "execution_count": 26,
   "id": "65b75c34",
   "metadata": {},
   "outputs": [],
   "source": [
    "from sklearn.model_selection import train_test_split\n",
    "xtrain, xtest,ytrain,ytest=train_test_split(x,y,test_size=0.2)"
   ]
  },
  {
   "cell_type": "code",
   "execution_count": 27,
   "id": "be007b4b",
   "metadata": {},
   "outputs": [
    {
     "data": {
      "text/plain": [
       "PCA()"
      ]
     },
     "execution_count": 27,
     "metadata": {},
     "output_type": "execute_result"
    }
   ],
   "source": [
    "from sklearn.decomposition import PCA \n",
    "\n",
    "model = PCA()\n",
    "\n",
    "model.fit(xtrain)"
   ]
  },
  {
   "cell_type": "code",
   "execution_count": 28,
   "id": "8a50ce5a",
   "metadata": {},
   "outputs": [
    {
     "data": {
      "text/plain": [
       "array([9.99910470e-01, 4.12137959e-05, 1.66814527e-05, 1.05759402e-05,\n",
       "       8.04532137e-06, 7.38860734e-06, 1.34877629e-06, 5.11887845e-07,\n",
       "       4.78405987e-07, 3.35623144e-07, 3.22852262e-07, 2.55512483e-07,\n",
       "       2.13170936e-07, 1.81281030e-07, 1.48293252e-07, 1.25363025e-07,\n",
       "       1.08238535e-07, 9.55702622e-08, 9.11801897e-08, 7.53538748e-08,\n",
       "       6.51967072e-08, 6.24805372e-08, 5.91106520e-08, 5.58855026e-08,\n",
       "       5.23129469e-08, 4.63781337e-08, 3.98202773e-08, 3.82297423e-08,\n",
       "       3.65622430e-08, 3.42544117e-08, 3.38995199e-08, 3.12305879e-08,\n",
       "       3.03285837e-08, 2.78669508e-08, 2.73709469e-08, 2.45537169e-08,\n",
       "       2.37107314e-08, 2.21539129e-08, 2.04890721e-08, 1.94261083e-08,\n",
       "       1.81762223e-08, 1.77141271e-08, 1.67710121e-08, 1.64195002e-08,\n",
       "       1.59351948e-08, 1.53213741e-08, 1.49254750e-08, 1.38900839e-08,\n",
       "       1.33470732e-08, 1.30770125e-08, 1.28476721e-08, 1.22919138e-08,\n",
       "       1.18927105e-08, 1.14036583e-08, 1.07545521e-08, 1.06134383e-08,\n",
       "       9.98240484e-09, 9.81662880e-09, 9.55547809e-09, 9.10459489e-09,\n",
       "       9.06178910e-09, 8.66049867e-09, 8.32082363e-09, 7.92207079e-09,\n",
       "       7.51533948e-09, 7.36664110e-09, 7.09947683e-09, 7.05348837e-09,\n",
       "       6.77532136e-09, 6.60651670e-09, 6.50694031e-09, 6.21313257e-09,\n",
       "       6.01609597e-09, 5.88279179e-09, 5.64863036e-09, 5.61743827e-09,\n",
       "       5.43349165e-09, 5.31048356e-09, 5.17482475e-09, 5.04802860e-09,\n",
       "       5.00760744e-09, 4.79147393e-09, 4.69123144e-09, 4.55347986e-09,\n",
       "       4.41248230e-09, 4.29045353e-09, 4.26967682e-09, 4.06311606e-09,\n",
       "       4.01708872e-09, 3.91845245e-09, 3.85519767e-09, 3.74217121e-09,\n",
       "       3.63432844e-09, 3.58680078e-09, 3.40730593e-09, 3.31506086e-09,\n",
       "       3.24046401e-09, 3.20758563e-09, 3.11354460e-09, 3.00404246e-09,\n",
       "       2.91094056e-09, 2.89643279e-09, 2.81466217e-09, 2.76975525e-09,\n",
       "       2.72206354e-09, 2.63066390e-09, 2.46599211e-09, 2.43123861e-09,\n",
       "       2.36469355e-09, 2.27130684e-09, 2.26261989e-09, 2.18135565e-09,\n",
       "       2.12057865e-09, 2.08180593e-09, 2.03265178e-09, 1.95124008e-09,\n",
       "       1.89081723e-09, 1.81288045e-09, 1.74333390e-09, 1.66785631e-09,\n",
       "       1.64064991e-09, 1.62439466e-09, 1.60365455e-09, 1.52932408e-09,\n",
       "       1.48740321e-09, 1.45754580e-09, 1.43471505e-09, 1.36220891e-09,\n",
       "       1.35806139e-09, 1.31891438e-09, 1.27275963e-09, 1.25229841e-09,\n",
       "       1.22739024e-09, 1.22363512e-09, 1.18527168e-09, 1.16291477e-09,\n",
       "       1.13765778e-09, 1.12250268e-09, 1.08690777e-09, 1.07799824e-09,\n",
       "       1.06136311e-09, 1.05161387e-09, 9.90601163e-10, 9.66338947e-10,\n",
       "       9.46786378e-10, 9.00243881e-10, 8.65974408e-10, 8.35395260e-10,\n",
       "       8.31654580e-10, 8.04974625e-10, 7.53248227e-10, 7.42257477e-10,\n",
       "       7.39100748e-10, 7.27177181e-10, 7.01256762e-10, 6.85161503e-10,\n",
       "       6.68190958e-10, 6.40634611e-10, 6.18828142e-10, 5.92176435e-10,\n",
       "       5.73349506e-10, 5.56320737e-10, 5.32467563e-10, 5.30742230e-10,\n",
       "       5.05657576e-10, 5.02911863e-10, 4.97426433e-10, 4.85299738e-10,\n",
       "       4.73283174e-10, 4.59888235e-10, 4.39664593e-10, 4.28424664e-10,\n",
       "       4.19677286e-10, 4.00542590e-10, 3.86260737e-10, 3.68174903e-10,\n",
       "       3.64832762e-10, 3.51250392e-10, 3.35627043e-10, 3.25016070e-10,\n",
       "       3.22325064e-10, 3.07962748e-10, 3.02479725e-10, 2.84349964e-10,\n",
       "       2.68959617e-10, 2.60823525e-10, 2.55185407e-10, 2.47775906e-10,\n",
       "       2.40730483e-10, 2.38896449e-10, 2.31102416e-10, 2.25392551e-10,\n",
       "       2.21780939e-10, 2.18747423e-10, 2.13770418e-10, 2.10861605e-10,\n",
       "       2.02150960e-10, 1.95449254e-10, 1.91483908e-10, 1.83299395e-10,\n",
       "       1.82227272e-10, 1.78182433e-10, 1.70722922e-10, 1.68065704e-10,\n",
       "       1.52577143e-10, 1.50658858e-10, 1.43053189e-10, 1.40666364e-10,\n",
       "       1.39177360e-10, 1.33356859e-10, 1.32371641e-10, 1.29593685e-10,\n",
       "       1.24411239e-10, 1.16372248e-10, 1.15859561e-10, 1.05217940e-10,\n",
       "       1.00679433e-10, 9.78771962e-11, 9.30039344e-11, 8.99202064e-11,\n",
       "       8.58523671e-11, 8.46176144e-11, 8.29202809e-11, 8.10364527e-11,\n",
       "       8.04817385e-11, 7.48387552e-11, 7.29542744e-11, 7.14127754e-11,\n",
       "       7.04558364e-11, 6.56386462e-11, 6.38148734e-11, 6.30345888e-11,\n",
       "       6.19723650e-11, 5.64512451e-11, 5.23033369e-11, 4.58598734e-11,\n",
       "       4.49745730e-11, 4.38838535e-11, 4.36090642e-11, 4.14454908e-11,\n",
       "       3.87126092e-11, 3.60779983e-11, 3.54050309e-11, 3.21470005e-11,\n",
       "       2.81037976e-11, 2.66908014e-11, 2.32018930e-11, 2.18176081e-11,\n",
       "       1.83124476e-11, 1.77728717e-11, 1.47756140e-11, 1.30009387e-11,\n",
       "       1.21923220e-11, 1.03757187e-11, 1.00827636e-11, 5.45258938e-12,\n",
       "       9.98307349e-33, 9.98307349e-33, 9.98307349e-33, 9.98307349e-33,\n",
       "       9.98307349e-33, 9.98307349e-33, 9.98307349e-33, 9.98307349e-33,\n",
       "       9.98307349e-33, 9.98307349e-33, 9.98307349e-33, 9.98307349e-33,\n",
       "       9.98307349e-33, 9.98307349e-33, 9.98307349e-33, 9.98307349e-33,\n",
       "       9.98307349e-33, 9.98307349e-33, 9.98307349e-33, 9.98307349e-33,\n",
       "       9.98307349e-33, 9.98307349e-33, 9.98307349e-33, 9.98307349e-33,\n",
       "       9.98307349e-33, 9.98307349e-33, 9.98307349e-33, 9.98307349e-33,\n",
       "       9.98307349e-33, 9.98307349e-33, 9.98307349e-33, 9.98307349e-33,\n",
       "       9.98307349e-33, 9.98307349e-33, 9.98307349e-33, 9.98307349e-33,\n",
       "       9.98307349e-33, 9.98307349e-33, 9.98307349e-33, 9.98307349e-33,\n",
       "       9.98307349e-33, 9.98307349e-33, 9.98307349e-33, 9.98307349e-33,\n",
       "       9.98307349e-33, 9.98307349e-33, 9.98307349e-33, 9.98307349e-33,\n",
       "       9.98307349e-33, 9.98307349e-33, 9.98307349e-33, 9.98307349e-33,\n",
       "       9.98307349e-33, 9.98307349e-33, 9.98307349e-33, 9.98307349e-33,\n",
       "       9.98307349e-33, 9.98307349e-33, 9.98307349e-33, 9.98307349e-33,\n",
       "       9.98307349e-33, 9.98307349e-33, 9.98307349e-33, 9.98307349e-33,\n",
       "       9.98307349e-33, 9.98307349e-33, 9.98307349e-33, 9.98307349e-33,\n",
       "       9.98307349e-33, 9.98307349e-33, 9.98307349e-33, 9.98307349e-33,\n",
       "       9.98307349e-33, 9.98307349e-33, 9.98307349e-33, 9.98307349e-33,\n",
       "       9.98307349e-33, 9.98307349e-33, 9.98307349e-33, 9.98307349e-33,\n",
       "       9.98307349e-33, 9.98307349e-33, 9.98307349e-33, 9.98307349e-33,\n",
       "       9.98307349e-33, 9.98307349e-33, 9.98307349e-33, 9.98307349e-33,\n",
       "       9.98307349e-33, 9.98307349e-33, 9.98307349e-33, 9.98307349e-33,\n",
       "       9.98307349e-33, 9.98307349e-33, 9.98307349e-33, 9.98307349e-33,\n",
       "       9.98307349e-33, 9.98307349e-33, 9.98307349e-33, 9.98307349e-33,\n",
       "       9.98307349e-33, 9.98307349e-33, 9.98307349e-33, 9.98307349e-33,\n",
       "       9.98307349e-33, 9.98307349e-33, 9.98307349e-33, 9.98307349e-33,\n",
       "       9.98307349e-33, 9.98307349e-33, 9.98307349e-33, 9.98307349e-33,\n",
       "       9.98307349e-33, 9.98307349e-33, 9.98307349e-33, 9.98307349e-33,\n",
       "       9.98307349e-33, 9.98307349e-33, 9.98307349e-33, 9.98307349e-33,\n",
       "       2.66444922e-39])"
      ]
     },
     "execution_count": 28,
     "metadata": {},
     "output_type": "execute_result"
    }
   ],
   "source": [
    "model.explained_variance_ratio_"
   ]
  },
  {
   "cell_type": "code",
   "execution_count": 29,
   "id": "89795453",
   "metadata": {},
   "outputs": [
    {
     "data": {
      "image/png": "[encoded data removed]",
      "text/plain": [
       "<Figure size 432x288 with 1 Axes>"
      ]
     },
     "metadata": {
      "needs_background": "light"
     },
     "output_type": "display_data"
    }
   ],
   "source": [
    "plt.plot(model.explained_variance_ratio_)\n",
    "plt.show()"
   ]
  },
  {
   "cell_type": "code",
   "execution_count": 30,
   "id": "2678e9f1",
   "metadata": {},
   "outputs": [],
   "source": [
    "#Elbow plot for variance and diamention"
   ]
  },
  {
   "cell_type": "code",
   "execution_count": 31,
   "id": "eda1fbc8",
   "metadata": {},
   "outputs": [
    {
     "data": {
      "text/plain": [
       "array([ 99.99104701,  99.99516839,  99.99683654,  99.99789413,\n",
       "        99.99869867,  99.99943753,  99.9995724 ,  99.99962359,\n",
       "        99.99967143,  99.999705  ,  99.99973728,  99.99976283,\n",
       "        99.99978415,  99.99980228,  99.99981711,  99.99982964,\n",
       "        99.99984047,  99.99985002,  99.99985914,  99.99986668,\n",
       "        99.9998732 ,  99.99987945,  99.99988536,  99.99989094,\n",
       "        99.99989618,  99.99990081,  99.9999048 ,  99.99990862,\n",
       "        99.99991228,  99.9999157 ,  99.99991909,  99.99992221,\n",
       "        99.99992525,  99.99992803,  99.99993077,  99.99993323,\n",
       "        99.9999356 ,  99.99993781,  99.99993986,  99.9999418 ,\n",
       "        99.99994362,  99.99994539,  99.99994707,  99.99994871,\n",
       "        99.99995031,  99.99995184,  99.99995333,  99.99995472,\n",
       "        99.99995605,  99.99995736,  99.99995865,  99.99995988,\n",
       "        99.99996106,  99.9999622 ,  99.99996328,  99.99996434,\n",
       "        99.99996534,  99.99996632,  99.99996728,  99.99996819,\n",
       "        99.99996909,  99.99996996,  99.99997079,  99.99997158,\n",
       "        99.99997234,  99.99997307,  99.99997378,  99.99997449,\n",
       "        99.99997517,  99.99997583,  99.99997648,  99.9999771 ,\n",
       "        99.9999777 ,  99.99997829,  99.99997885,  99.99997941,\n",
       "        99.99997996,  99.99998049,  99.99998101,  99.99998151,\n",
       "        99.99998201,  99.99998249,  99.99998296,  99.99998342,\n",
       "        99.99998386,  99.99998429,  99.99998471,  99.99998512,\n",
       "        99.99998552,  99.99998591,  99.9999863 ,  99.99998667,\n",
       "        99.99998704,  99.99998739,  99.99998774,  99.99998807,\n",
       "        99.99998839,  99.99998871,  99.99998902,  99.99998932,\n",
       "        99.99998961,  99.9999899 ,  99.99999019,  99.99999046,\n",
       "        99.99999073,  99.999991  ,  99.99999124,  99.99999149,\n",
       "        99.99999172,  99.99999195,  99.99999218,  99.9999924 ,\n",
       "        99.99999261,  99.99999282,  99.99999302,  99.99999321,\n",
       "        99.9999934 ,  99.99999358,  99.99999376,  99.99999393,\n",
       "        99.99999409,  99.99999425,  99.99999441,  99.99999457,\n",
       "        99.99999471,  99.99999486,  99.999995  ,  99.99999514,\n",
       "        99.99999528,  99.99999541,  99.99999553,  99.99999566,\n",
       "        99.99999578,  99.9999959 ,  99.99999602,  99.99999614,\n",
       "        99.99999625,  99.99999637,  99.99999647,  99.99999658,\n",
       "        99.99999669,  99.99999679,  99.99999689,  99.99999699,\n",
       "        99.99999708,  99.99999717,  99.99999726,  99.99999734,\n",
       "        99.99999743,  99.99999751,  99.99999758,  99.99999766,\n",
       "        99.99999773,  99.9999978 ,  99.99999787,  99.99999794,\n",
       "        99.99999801,  99.99999807,  99.99999814,  99.99999819,\n",
       "        99.99999825,  99.99999831,  99.99999836,  99.99999841,\n",
       "        99.99999846,  99.99999851,  99.99999856,  99.99999861,\n",
       "        99.99999866,  99.99999871,  99.99999875,  99.99999879,\n",
       "        99.99999883,  99.99999887,  99.99999891,  99.99999895,\n",
       "        99.99999899,  99.99999902,  99.99999906,  99.99999909,\n",
       "        99.99999912,  99.99999915,  99.99999918,  99.99999921,\n",
       "        99.99999924,  99.99999926,  99.99999929,  99.99999931,\n",
       "        99.99999934,  99.99999936,  99.99999938,  99.99999941,\n",
       "        99.99999943,  99.99999945,  99.99999947,  99.99999949,\n",
       "        99.99999951,  99.99999953,  99.99999955,  99.99999957,\n",
       "        99.99999959,  99.99999961,  99.99999962,  99.99999964,\n",
       "        99.99999966,  99.99999967,  99.99999968,  99.9999997 ,\n",
       "        99.99999971,  99.99999973,  99.99999974,  99.99999975,\n",
       "        99.99999976,  99.99999978,  99.99999979,  99.9999998 ,\n",
       "        99.99999981,  99.99999982,  99.99999983,  99.99999984,\n",
       "        99.99999985,  99.99999985,  99.99999986,  99.99999987,\n",
       "        99.99999988,  99.99999989,  99.99999989,  99.9999999 ,\n",
       "        99.99999991,  99.99999991,  99.99999992,  99.99999993,\n",
       "        99.99999993,  99.99999994,  99.99999994,  99.99999995,\n",
       "        99.99999995,  99.99999996,  99.99999996,  99.99999997,\n",
       "        99.99999997,  99.99999997,  99.99999998,  99.99999998,\n",
       "        99.99999998,  99.99999999,  99.99999999,  99.99999999,\n",
       "        99.99999999,  99.99999999,  99.99999999, 100.        ,\n",
       "       100.        , 100.        , 100.        , 100.        ,\n",
       "       100.        , 100.        , 100.        , 100.        ,\n",
       "       100.        , 100.        , 100.        , 100.        ,\n",
       "       100.        , 100.        , 100.        , 100.        ,\n",
       "       100.        , 100.        , 100.        , 100.        ,\n",
       "       100.        , 100.        , 100.        , 100.        ,\n",
       "       100.        , 100.        , 100.        , 100.        ,\n",
       "       100.        , 100.        , 100.        , 100.        ,\n",
       "       100.        , 100.        , 100.        , 100.        ,\n",
       "       100.        , 100.        , 100.        , 100.        ,\n",
       "       100.        , 100.        , 100.        , 100.        ,\n",
       "       100.        , 100.        , 100.        , 100.        ,\n",
       "       100.        , 100.        , 100.        , 100.        ,\n",
       "       100.        , 100.        , 100.        , 100.        ,\n",
       "       100.        , 100.        , 100.        , 100.        ,\n",
       "       100.        , 100.        , 100.        , 100.        ,\n",
       "       100.        , 100.        , 100.        , 100.        ,\n",
       "       100.        , 100.        , 100.        , 100.        ,\n",
       "       100.        , 100.        , 100.        , 100.        ,\n",
       "       100.        , 100.        , 100.        , 100.        ,\n",
       "       100.        , 100.        , 100.        , 100.        ,\n",
       "       100.        , 100.        , 100.        , 100.        ,\n",
       "       100.        , 100.        , 100.        , 100.        ,\n",
       "       100.        , 100.        , 100.        , 100.        ,\n",
       "       100.        , 100.        , 100.        , 100.        ,\n",
       "       100.        , 100.        , 100.        , 100.        ,\n",
       "       100.        , 100.        , 100.        , 100.        ,\n",
       "       100.        , 100.        , 100.        , 100.        ,\n",
       "       100.        , 100.        , 100.        , 100.        ,\n",
       "       100.        , 100.        , 100.        , 100.        ,\n",
       "       100.        , 100.        , 100.        , 100.        ,\n",
       "       100.        ])"
      ]
     },
     "execution_count": 31,
     "metadata": {},
     "output_type": "execute_result"
    }
   ],
   "source": [
    "val = np.cumsum(model.explained_variance_ratio_)*100 \n",
    "val"
   ]
  },
  {
   "cell_type": "code",
   "execution_count": 32,
   "id": "f8db66fd",
   "metadata": {},
   "outputs": [
    {
     "data": {
      "image/png": "[encoded data removed]",
      "text/plain": [
       "<Figure size 720x432 with 1 Axes>"
      ]
     },
     "metadata": {
      "needs_background": "light"
     },
     "output_type": "display_data"
    }
   ],
   "source": [
    "plt.figure(figsize = (10,6))\n",
    "plt.plot(range(1, len(val)+1), val, marker = 'o', label = \"Cumulative Explained Variance\")\n",
    "plt.axhline(y = 95, color = 'r', linestyle = '--', label = \"95% Explained Variance\")\n",
    "plt.axhline(y = 80, color = 'g', linestyle = '--', label = \"80% Explained Variance\")\n",
    "plt.xlabel(\"Dimensions\")\n",
    "plt.ylabel(\"Cumulative Explained Variance in %\")\n",
    "plt.legend()\n",
    "plt.show()"
   ]
  },
  {
   "cell_type": "code",
   "execution_count": 33,
   "id": "3a596c81",
   "metadata": {},
   "outputs": [],
   "source": [
    "pca = PCA(n_components = 0.95)\n",
    "pca.fit(xtrain)\n",
    "pca_xtrain = pca.transform(xtrain)\n",
    "pca_xtest = pca.transform(xtest)"
   ]
  },
  {
   "cell_type": "code",
   "execution_count": 34,
   "id": "039179c2",
   "metadata": {},
   "outputs": [
    {
     "data": {
      "text/plain": [
       "1"
      ]
     },
     "execution_count": 34,
     "metadata": {},
     "output_type": "execute_result"
    }
   ],
   "source": [
    "pca.n_components_"
   ]
  },
  {
   "cell_type": "code",
   "execution_count": 35,
   "id": "2492c180",
   "metadata": {},
   "outputs": [
    {
     "data": {
      "text/plain": [
       "377"
      ]
     },
     "execution_count": 35,
     "metadata": {},
     "output_type": "execute_result"
    }
   ],
   "source": [
    "pca.n_features_"
   ]
  },
  {
   "cell_type": "code",
   "execution_count": 36,
   "id": "1c294dc5",
   "metadata": {},
   "outputs": [],
   "source": [
    "xtrain = train.drop(columns = [\"y\"])\n",
    "\n",
    "ytrain = train[\"y\"]"
   ]
  },
  {
   "cell_type": "code",
   "execution_count": 37,
   "id": "462f4c0b",
   "metadata": {},
   "outputs": [],
   "source": [
    "xtest = test"
   ]
  },
  {
   "cell_type": "code",
   "execution_count": 38,
   "id": "6cfae64a",
   "metadata": {},
   "outputs": [
    {
     "name": "stdout",
     "output_type": "stream",
     "text": [
      "Note: you may need to restart the kernel to use updated packages.\n"
     ]
    },
    {
     "name": "stderr",
     "output_type": "stream",
     "text": [
      "WARNING: Retrying (Retry(total=4, connect=None, read=None, redirect=None, status=None)) after connection broken by 'NewConnectionError('<pip._vendor.urllib3.connection.HTTPSConnection object at 0x00000247592C4280>: Failed to establish a new connection: [Errno 11001] getaddrinfo failed')': /simple/xgboost/\n",
      "WARNING: Retrying (Retry(total=3, connect=None, read=None, redirect=None, status=None)) after connection broken by 'NewConnectionError('<pip._vendor.urllib3.connection.HTTPSConnection object at 0x00000247592C4130>: Failed to establish a new connection: [Errno 11001] getaddrinfo failed')': /simple/xgboost/\n",
      "WARNING: Retrying (Retry(total=2, connect=None, read=None, redirect=None, status=None)) after connection broken by 'NewConnectionError('<pip._vendor.urllib3.connection.HTTPSConnection object at 0x00000247592C48E0>: Failed to establish a new connection: [Errno 11001] getaddrinfo failed')': /simple/xgboost/\n",
      "WARNING: Retrying (Retry(total=1, connect=None, read=None, redirect=None, status=None)) after connection broken by 'NewConnectionError('<pip._vendor.urllib3.connection.HTTPSConnection object at 0x00000247592C4A90>: Failed to establish a new connection: [Errno 11001] getaddrinfo failed')': /simple/xgboost/\n",
      "WARNING: Retrying (Retry(total=0, connect=None, read=None, redirect=None, status=None)) after connection broken by 'NewConnectionError('<pip._vendor.urllib3.connection.HTTPSConnection object at 0x00000247592C4C40>: Failed to establish a new connection: [Errno 11001] getaddrinfo failed')': /simple/xgboost/\n",
      "ERROR: Could not find a version that satisfies the requirement xgboost (from versions: none)\n",
      "ERROR: No matching distribution found for xgboost\n"
     ]
    }
   ],
   "source": [
    "pip install xgboost"
   ]
  },
  {
   "cell_type": "code",
   "execution_count": 39,
   "id": "83ab123e",
   "metadata": {},
   "outputs": [
    {
     "ename": "ModuleNotFoundError",
     "evalue": "No module named 'xgboost'",
     "output_type": "error",
     "traceback": [
      "\u001b[1;31m---------------------------------------------------------------------------\u001b[0m",
      "\u001b[1;31mModuleNotFoundError\u001b[0m                       Traceback (most recent call last)",
      "\u001b[1;32m~\\AppData\\Local\\Temp/ipykernel_19864/2238654817.py\u001b[0m in \u001b[0;36m<module>\u001b[1;34m\u001b[0m\n\u001b[1;32m----> 1\u001b[1;33m \u001b[1;32mfrom\u001b[0m \u001b[0mxgboost\u001b[0m \u001b[1;32mimport\u001b[0m \u001b[0mXGBClassifier\u001b[0m\u001b[1;33m\u001b[0m\u001b[1;33m\u001b[0m\u001b[0m\n\u001b[0m\u001b[0;32m      2\u001b[0m \u001b[1;33m\u001b[0m\u001b[0m\n\u001b[0;32m      3\u001b[0m \u001b[0mmodel\u001b[0m \u001b[1;33m=\u001b[0m \u001b[0mXGBClassifier\u001b[0m\u001b[1;33m(\u001b[0m\u001b[0mn_estimators\u001b[0m \u001b[1;33m=\u001b[0m \u001b[1;36m100\u001b[0m\u001b[1;33m,\u001b[0m \u001b[0mmax_depth\u001b[0m \u001b[1;33m=\u001b[0m \u001b[1;36m5\u001b[0m\u001b[1;33m,\u001b[0m \u001b[0mlearning_rate\u001b[0m \u001b[1;33m=\u001b[0m \u001b[1;36m0.1\u001b[0m\u001b[1;33m)\u001b[0m\u001b[1;33m\u001b[0m\u001b[1;33m\u001b[0m\u001b[0m\n\u001b[0;32m      4\u001b[0m \u001b[1;33m\u001b[0m\u001b[0m\n\u001b[0;32m      5\u001b[0m \u001b[0mmodel\u001b[0m\u001b[1;33m.\u001b[0m\u001b[0mfit\u001b[0m\u001b[1;33m(\u001b[0m\u001b[0mxtrain\u001b[0m\u001b[1;33m,\u001b[0m \u001b[0mytrain\u001b[0m\u001b[1;33m)\u001b[0m\u001b[1;33m\u001b[0m\u001b[1;33m\u001b[0m\u001b[0m\n",
      "\u001b[1;31mModuleNotFoundError\u001b[0m: No module named 'xgboost'"
     ]
    }
   ],
   "source": [
    "from xgboost import XGBClassifier \n",
    "\n",
    "model = XGBClassifier(n_estimators = 100, max_depth = 5, learning_rate = 0.1) \n",
    "\n",
    "model.fit(xtrain, ytrain)"
   ]
  },
  {
   "cell_type": "code",
   "execution_count": null,
   "id": "a20d8540",
   "metadata": {},
   "outputs": [],
   "source": [
    "test_df = model.predict(xtest)"
   ]
  },
  {
   "cell_type": "code",
   "execution_count": null,
   "id": "3e39b728",
   "metadata": {},
   "outputs": [],
   "source": []
  }
 ],
 "metadata": {
  "kernelspec": {
   "display_name": "Python 3 (ipykernel)",
   "language": "python",
   "name": "python3"
  },
  "language_info": {
   "codemirror_mode": {
    "name": "ipython",
    "version": 3
   },
   "file_extension": ".py",
   "mimetype": "text/x-python",
   "name": "python",
   "nbconvert_exporter": "python",
   "pygments_lexer": "ipython3",
   "version": "3.9.7"
  }
 },
 "nbformat": 4,
 "nbformat_minor": 5
}
