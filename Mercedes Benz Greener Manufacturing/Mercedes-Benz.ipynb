{
 "cells": [
  {
   "cell_type": "markdown",
   "id": "29d063ad",
   "metadata": {},
   "source": [
    "# Mercedes-Benz"
   ]
  },
  {
   "cell_type": "markdown",
   "id": "959f5b67",
   "metadata": {},
   "source": [
    "Step 1:- Import required libraries"
   ]
  },
  {
   "cell_type": "code",
   "execution_count": 1,
   "id": "290adb53",
   "metadata": {},
   "outputs": [],
   "source": [
    "import pandas as pd\n",
    "import numpy as np\n",
    "import matplotlib.pyplot as plt"
   ]
  },
  {
   "cell_type": "markdown",
   "id": "6b09a4c0",
   "metadata": {},
   "source": [
    "Step 2:- Import given data set"
   ]
  },
  {
   "cell_type": "code",
   "execution_count": 2,
   "id": "7b21cc40",
   "metadata": {},
   "outputs": [],
   "source": [
    "test = pd.read_csv('test.csv')"
   ]
  },
  {
   "cell_type": "code",
   "execution_count": 3,
   "id": "bbe29af9",
   "metadata": {},
   "outputs": [
    {
     "data": {
      "text/html": [
       "<div>\n",
       "<style scoped>\n",
       "    .dataframe tbody tr th:only-of-type {\n",
       "        vertical-align: middle;\n",
       "    }\n",
       "\n",
       "    .dataframe tbody tr th {\n",
       "        vertical-align: top;\n",
       "    }\n",
       "\n",
       "    .dataframe thead th {\n",
       "        text-align: right;\n",
       "    }\n",
       "</style>\n",
       "<table border=\"1\" class=\"dataframe\">\n",
       "  <thead>\n",
       "    <tr style=\"text-align: right;\">\n",
       "      <th></th>\n",
       "      <th>ID</th>\n",
       "      <th>X0</th>\n",
       "      <th>X1</th>\n",
       "      <th>X2</th>\n",
       "      <th>X3</th>\n",
       "      <th>X4</th>\n",
       "      <th>X5</th>\n",
       "      <th>X6</th>\n",
       "      <th>X8</th>\n",
       "      <th>X10</th>\n",
       "      <th>...</th>\n",
       "      <th>X375</th>\n",
       "      <th>X376</th>\n",
       "      <th>X377</th>\n",
       "      <th>X378</th>\n",
       "      <th>X379</th>\n",
       "      <th>X380</th>\n",
       "      <th>X382</th>\n",
       "      <th>X383</th>\n",
       "      <th>X384</th>\n",
       "      <th>X385</th>\n",
       "    </tr>\n",
       "  </thead>\n",
       "  <tbody>\n",
       "    <tr>\n",
       "      <th>0</th>\n",
       "      <td>1</td>\n",
       "      <td>az</td>\n",
       "      <td>v</td>\n",
       "      <td>n</td>\n",
       "      <td>f</td>\n",
       "      <td>d</td>\n",
       "      <td>t</td>\n",
       "      <td>a</td>\n",
       "      <td>w</td>\n",
       "      <td>0</td>\n",
       "      <td>...</td>\n",
       "      <td>0</td>\n",
       "      <td>0</td>\n",
       "      <td>0</td>\n",
       "      <td>1</td>\n",
       "      <td>0</td>\n",
       "      <td>0</td>\n",
       "      <td>0</td>\n",
       "      <td>0</td>\n",
       "      <td>0</td>\n",
       "      <td>0</td>\n",
       "    </tr>\n",
       "    <tr>\n",
       "      <th>1</th>\n",
       "      <td>2</td>\n",
       "      <td>t</td>\n",
       "      <td>b</td>\n",
       "      <td>ai</td>\n",
       "      <td>a</td>\n",
       "      <td>d</td>\n",
       "      <td>b</td>\n",
       "      <td>g</td>\n",
       "      <td>y</td>\n",
       "      <td>0</td>\n",
       "      <td>...</td>\n",
       "      <td>0</td>\n",
       "      <td>0</td>\n",
       "      <td>1</td>\n",
       "      <td>0</td>\n",
       "      <td>0</td>\n",
       "      <td>0</td>\n",
       "      <td>0</td>\n",
       "      <td>0</td>\n",
       "      <td>0</td>\n",
       "      <td>0</td>\n",
       "    </tr>\n",
       "    <tr>\n",
       "      <th>2</th>\n",
       "      <td>3</td>\n",
       "      <td>az</td>\n",
       "      <td>v</td>\n",
       "      <td>as</td>\n",
       "      <td>f</td>\n",
       "      <td>d</td>\n",
       "      <td>a</td>\n",
       "      <td>j</td>\n",
       "      <td>j</td>\n",
       "      <td>0</td>\n",
       "      <td>...</td>\n",
       "      <td>0</td>\n",
       "      <td>0</td>\n",
       "      <td>0</td>\n",
       "      <td>1</td>\n",
       "      <td>0</td>\n",
       "      <td>0</td>\n",
       "      <td>0</td>\n",
       "      <td>0</td>\n",
       "      <td>0</td>\n",
       "      <td>0</td>\n",
       "    </tr>\n",
       "    <tr>\n",
       "      <th>3</th>\n",
       "      <td>4</td>\n",
       "      <td>az</td>\n",
       "      <td>l</td>\n",
       "      <td>n</td>\n",
       "      <td>f</td>\n",
       "      <td>d</td>\n",
       "      <td>z</td>\n",
       "      <td>l</td>\n",
       "      <td>n</td>\n",
       "      <td>0</td>\n",
       "      <td>...</td>\n",
       "      <td>0</td>\n",
       "      <td>0</td>\n",
       "      <td>0</td>\n",
       "      <td>1</td>\n",
       "      <td>0</td>\n",
       "      <td>0</td>\n",
       "      <td>0</td>\n",
       "      <td>0</td>\n",
       "      <td>0</td>\n",
       "      <td>0</td>\n",
       "    </tr>\n",
       "    <tr>\n",
       "      <th>4</th>\n",
       "      <td>5</td>\n",
       "      <td>w</td>\n",
       "      <td>s</td>\n",
       "      <td>as</td>\n",
       "      <td>c</td>\n",
       "      <td>d</td>\n",
       "      <td>y</td>\n",
       "      <td>i</td>\n",
       "      <td>m</td>\n",
       "      <td>0</td>\n",
       "      <td>...</td>\n",
       "      <td>1</td>\n",
       "      <td>0</td>\n",
       "      <td>0</td>\n",
       "      <td>0</td>\n",
       "      <td>0</td>\n",
       "      <td>0</td>\n",
       "      <td>0</td>\n",
       "      <td>0</td>\n",
       "      <td>0</td>\n",
       "      <td>0</td>\n",
       "    </tr>\n",
       "  </tbody>\n",
       "</table>\n",
       "<p>5 rows × 377 columns</p>\n",
       "</div>"
      ],
      "text/plain": [
       "   ID  X0 X1  X2 X3 X4 X5 X6 X8  X10  ...  X375  X376  X377  X378  X379  X380  \\\n",
       "0   1  az  v   n  f  d  t  a  w    0  ...     0     0     0     1     0     0   \n",
       "1   2   t  b  ai  a  d  b  g  y    0  ...     0     0     1     0     0     0   \n",
       "2   3  az  v  as  f  d  a  j  j    0  ...     0     0     0     1     0     0   \n",
       "3   4  az  l   n  f  d  z  l  n    0  ...     0     0     0     1     0     0   \n",
       "4   5   w  s  as  c  d  y  i  m    0  ...     1     0     0     0     0     0   \n",
       "\n",
       "   X382  X383  X384  X385  \n",
       "0     0     0     0     0  \n",
       "1     0     0     0     0  \n",
       "2     0     0     0     0  \n",
       "3     0     0     0     0  \n",
       "4     0     0     0     0  \n",
       "\n",
       "[5 rows x 377 columns]"
      ]
     },
     "execution_count": 3,
     "metadata": {},
     "output_type": "execute_result"
    }
   ],
   "source": [
    "test.head()"
   ]
  },
  {
   "cell_type": "code",
   "execution_count": 4,
   "id": "8cc6bab6",
   "metadata": {},
   "outputs": [],
   "source": [
    "train = pd.read_csv('train.csv')"
   ]
  },
  {
   "cell_type": "code",
   "execution_count": 5,
   "id": "5477c028",
   "metadata": {},
   "outputs": [
    {
     "data": {
      "text/html": [
       "<div>\n",
       "<style scoped>\n",
       "    .dataframe tbody tr th:only-of-type {\n",
       "        vertical-align: middle;\n",
       "    }\n",
       "\n",
       "    .dataframe tbody tr th {\n",
       "        vertical-align: top;\n",
       "    }\n",
       "\n",
       "    .dataframe thead th {\n",
       "        text-align: right;\n",
       "    }\n",
       "</style>\n",
       "<table border=\"1\" class=\"dataframe\">\n",
       "  <thead>\n",
       "    <tr style=\"text-align: right;\">\n",
       "      <th></th>\n",
       "      <th>ID</th>\n",
       "      <th>y</th>\n",
       "      <th>X0</th>\n",
       "      <th>X1</th>\n",
       "      <th>X2</th>\n",
       "      <th>X3</th>\n",
       "      <th>X4</th>\n",
       "      <th>X5</th>\n",
       "      <th>X6</th>\n",
       "      <th>X8</th>\n",
       "      <th>...</th>\n",
       "      <th>X375</th>\n",
       "      <th>X376</th>\n",
       "      <th>X377</th>\n",
       "      <th>X378</th>\n",
       "      <th>X379</th>\n",
       "      <th>X380</th>\n",
       "      <th>X382</th>\n",
       "      <th>X383</th>\n",
       "      <th>X384</th>\n",
       "      <th>X385</th>\n",
       "    </tr>\n",
       "  </thead>\n",
       "  <tbody>\n",
       "    <tr>\n",
       "      <th>0</th>\n",
       "      <td>0</td>\n",
       "      <td>130.81</td>\n",
       "      <td>k</td>\n",
       "      <td>v</td>\n",
       "      <td>at</td>\n",
       "      <td>a</td>\n",
       "      <td>d</td>\n",
       "      <td>u</td>\n",
       "      <td>j</td>\n",
       "      <td>o</td>\n",
       "      <td>...</td>\n",
       "      <td>0</td>\n",
       "      <td>0</td>\n",
       "      <td>1</td>\n",
       "      <td>0</td>\n",
       "      <td>0</td>\n",
       "      <td>0</td>\n",
       "      <td>0</td>\n",
       "      <td>0</td>\n",
       "      <td>0</td>\n",
       "      <td>0</td>\n",
       "    </tr>\n",
       "    <tr>\n",
       "      <th>1</th>\n",
       "      <td>6</td>\n",
       "      <td>88.53</td>\n",
       "      <td>k</td>\n",
       "      <td>t</td>\n",
       "      <td>av</td>\n",
       "      <td>e</td>\n",
       "      <td>d</td>\n",
       "      <td>y</td>\n",
       "      <td>l</td>\n",
       "      <td>o</td>\n",
       "      <td>...</td>\n",
       "      <td>1</td>\n",
       "      <td>0</td>\n",
       "      <td>0</td>\n",
       "      <td>0</td>\n",
       "      <td>0</td>\n",
       "      <td>0</td>\n",
       "      <td>0</td>\n",
       "      <td>0</td>\n",
       "      <td>0</td>\n",
       "      <td>0</td>\n",
       "    </tr>\n",
       "    <tr>\n",
       "      <th>2</th>\n",
       "      <td>7</td>\n",
       "      <td>76.26</td>\n",
       "      <td>az</td>\n",
       "      <td>w</td>\n",
       "      <td>n</td>\n",
       "      <td>c</td>\n",
       "      <td>d</td>\n",
       "      <td>x</td>\n",
       "      <td>j</td>\n",
       "      <td>x</td>\n",
       "      <td>...</td>\n",
       "      <td>0</td>\n",
       "      <td>0</td>\n",
       "      <td>0</td>\n",
       "      <td>0</td>\n",
       "      <td>0</td>\n",
       "      <td>0</td>\n",
       "      <td>1</td>\n",
       "      <td>0</td>\n",
       "      <td>0</td>\n",
       "      <td>0</td>\n",
       "    </tr>\n",
       "    <tr>\n",
       "      <th>3</th>\n",
       "      <td>9</td>\n",
       "      <td>80.62</td>\n",
       "      <td>az</td>\n",
       "      <td>t</td>\n",
       "      <td>n</td>\n",
       "      <td>f</td>\n",
       "      <td>d</td>\n",
       "      <td>x</td>\n",
       "      <td>l</td>\n",
       "      <td>e</td>\n",
       "      <td>...</td>\n",
       "      <td>0</td>\n",
       "      <td>0</td>\n",
       "      <td>0</td>\n",
       "      <td>0</td>\n",
       "      <td>0</td>\n",
       "      <td>0</td>\n",
       "      <td>0</td>\n",
       "      <td>0</td>\n",
       "      <td>0</td>\n",
       "      <td>0</td>\n",
       "    </tr>\n",
       "    <tr>\n",
       "      <th>4</th>\n",
       "      <td>13</td>\n",
       "      <td>78.02</td>\n",
       "      <td>az</td>\n",
       "      <td>v</td>\n",
       "      <td>n</td>\n",
       "      <td>f</td>\n",
       "      <td>d</td>\n",
       "      <td>h</td>\n",
       "      <td>d</td>\n",
       "      <td>n</td>\n",
       "      <td>...</td>\n",
       "      <td>0</td>\n",
       "      <td>0</td>\n",
       "      <td>0</td>\n",
       "      <td>0</td>\n",
       "      <td>0</td>\n",
       "      <td>0</td>\n",
       "      <td>0</td>\n",
       "      <td>0</td>\n",
       "      <td>0</td>\n",
       "      <td>0</td>\n",
       "    </tr>\n",
       "  </tbody>\n",
       "</table>\n",
       "<p>5 rows × 378 columns</p>\n",
       "</div>"
      ],
      "text/plain": [
       "   ID       y  X0 X1  X2 X3 X4 X5 X6 X8  ...  X375  X376  X377  X378  X379  \\\n",
       "0   0  130.81   k  v  at  a  d  u  j  o  ...     0     0     1     0     0   \n",
       "1   6   88.53   k  t  av  e  d  y  l  o  ...     1     0     0     0     0   \n",
       "2   7   76.26  az  w   n  c  d  x  j  x  ...     0     0     0     0     0   \n",
       "3   9   80.62  az  t   n  f  d  x  l  e  ...     0     0     0     0     0   \n",
       "4  13   78.02  az  v   n  f  d  h  d  n  ...     0     0     0     0     0   \n",
       "\n",
       "   X380  X382  X383  X384  X385  \n",
       "0     0     0     0     0     0  \n",
       "1     0     0     0     0     0  \n",
       "2     0     1     0     0     0  \n",
       "3     0     0     0     0     0  \n",
       "4     0     0     0     0     0  \n",
       "\n",
       "[5 rows x 378 columns]"
      ]
     },
     "execution_count": 5,
     "metadata": {},
     "output_type": "execute_result"
    }
   ],
   "source": [
    "train.head()"
   ]
  },
  {
   "cell_type": "code",
   "execution_count": 6,
   "id": "e5b78064",
   "metadata": {},
   "outputs": [],
   "source": [
    "df = pd.concat([test, train])"
   ]
  },
  {
   "cell_type": "code",
   "execution_count": 7,
   "id": "fd7b19b0",
   "metadata": {},
   "outputs": [
    {
     "data": {
      "text/html": [
       "<div>\n",
       "<style scoped>\n",
       "    .dataframe tbody tr th:only-of-type {\n",
       "        vertical-align: middle;\n",
       "    }\n",
       "\n",
       "    .dataframe tbody tr th {\n",
       "        vertical-align: top;\n",
       "    }\n",
       "\n",
       "    .dataframe thead th {\n",
       "        text-align: right;\n",
       "    }\n",
       "</style>\n",
       "<table border=\"1\" class=\"dataframe\">\n",
       "  <thead>\n",
       "    <tr style=\"text-align: right;\">\n",
       "      <th></th>\n",
       "      <th>ID</th>\n",
       "      <th>X0</th>\n",
       "      <th>X1</th>\n",
       "      <th>X2</th>\n",
       "      <th>X3</th>\n",
       "      <th>X4</th>\n",
       "      <th>X5</th>\n",
       "      <th>X6</th>\n",
       "      <th>X8</th>\n",
       "      <th>X10</th>\n",
       "      <th>...</th>\n",
       "      <th>X376</th>\n",
       "      <th>X377</th>\n",
       "      <th>X378</th>\n",
       "      <th>X379</th>\n",
       "      <th>X380</th>\n",
       "      <th>X382</th>\n",
       "      <th>X383</th>\n",
       "      <th>X384</th>\n",
       "      <th>X385</th>\n",
       "      <th>y</th>\n",
       "    </tr>\n",
       "  </thead>\n",
       "  <tbody>\n",
       "    <tr>\n",
       "      <th>0</th>\n",
       "      <td>1</td>\n",
       "      <td>az</td>\n",
       "      <td>v</td>\n",
       "      <td>n</td>\n",
       "      <td>f</td>\n",
       "      <td>d</td>\n",
       "      <td>t</td>\n",
       "      <td>a</td>\n",
       "      <td>w</td>\n",
       "      <td>0</td>\n",
       "      <td>...</td>\n",
       "      <td>0</td>\n",
       "      <td>0</td>\n",
       "      <td>1</td>\n",
       "      <td>0</td>\n",
       "      <td>0</td>\n",
       "      <td>0</td>\n",
       "      <td>0</td>\n",
       "      <td>0</td>\n",
       "      <td>0</td>\n",
       "      <td>NaN</td>\n",
       "    </tr>\n",
       "    <tr>\n",
       "      <th>1</th>\n",
       "      <td>2</td>\n",
       "      <td>t</td>\n",
       "      <td>b</td>\n",
       "      <td>ai</td>\n",
       "      <td>a</td>\n",
       "      <td>d</td>\n",
       "      <td>b</td>\n",
       "      <td>g</td>\n",
       "      <td>y</td>\n",
       "      <td>0</td>\n",
       "      <td>...</td>\n",
       "      <td>0</td>\n",
       "      <td>1</td>\n",
       "      <td>0</td>\n",
       "      <td>0</td>\n",
       "      <td>0</td>\n",
       "      <td>0</td>\n",
       "      <td>0</td>\n",
       "      <td>0</td>\n",
       "      <td>0</td>\n",
       "      <td>NaN</td>\n",
       "    </tr>\n",
       "    <tr>\n",
       "      <th>2</th>\n",
       "      <td>3</td>\n",
       "      <td>az</td>\n",
       "      <td>v</td>\n",
       "      <td>as</td>\n",
       "      <td>f</td>\n",
       "      <td>d</td>\n",
       "      <td>a</td>\n",
       "      <td>j</td>\n",
       "      <td>j</td>\n",
       "      <td>0</td>\n",
       "      <td>...</td>\n",
       "      <td>0</td>\n",
       "      <td>0</td>\n",
       "      <td>1</td>\n",
       "      <td>0</td>\n",
       "      <td>0</td>\n",
       "      <td>0</td>\n",
       "      <td>0</td>\n",
       "      <td>0</td>\n",
       "      <td>0</td>\n",
       "      <td>NaN</td>\n",
       "    </tr>\n",
       "    <tr>\n",
       "      <th>3</th>\n",
       "      <td>4</td>\n",
       "      <td>az</td>\n",
       "      <td>l</td>\n",
       "      <td>n</td>\n",
       "      <td>f</td>\n",
       "      <td>d</td>\n",
       "      <td>z</td>\n",
       "      <td>l</td>\n",
       "      <td>n</td>\n",
       "      <td>0</td>\n",
       "      <td>...</td>\n",
       "      <td>0</td>\n",
       "      <td>0</td>\n",
       "      <td>1</td>\n",
       "      <td>0</td>\n",
       "      <td>0</td>\n",
       "      <td>0</td>\n",
       "      <td>0</td>\n",
       "      <td>0</td>\n",
       "      <td>0</td>\n",
       "      <td>NaN</td>\n",
       "    </tr>\n",
       "    <tr>\n",
       "      <th>4</th>\n",
       "      <td>5</td>\n",
       "      <td>w</td>\n",
       "      <td>s</td>\n",
       "      <td>as</td>\n",
       "      <td>c</td>\n",
       "      <td>d</td>\n",
       "      <td>y</td>\n",
       "      <td>i</td>\n",
       "      <td>m</td>\n",
       "      <td>0</td>\n",
       "      <td>...</td>\n",
       "      <td>0</td>\n",
       "      <td>0</td>\n",
       "      <td>0</td>\n",
       "      <td>0</td>\n",
       "      <td>0</td>\n",
       "      <td>0</td>\n",
       "      <td>0</td>\n",
       "      <td>0</td>\n",
       "      <td>0</td>\n",
       "      <td>NaN</td>\n",
       "    </tr>\n",
       "  </tbody>\n",
       "</table>\n",
       "<p>5 rows × 378 columns</p>\n",
       "</div>"
      ],
      "text/plain": [
       "   ID  X0 X1  X2 X3 X4 X5 X6 X8  X10  ...  X376  X377  X378  X379  X380  X382  \\\n",
       "0   1  az  v   n  f  d  t  a  w    0  ...     0     0     1     0     0     0   \n",
       "1   2   t  b  ai  a  d  b  g  y    0  ...     0     1     0     0     0     0   \n",
       "2   3  az  v  as  f  d  a  j  j    0  ...     0     0     1     0     0     0   \n",
       "3   4  az  l   n  f  d  z  l  n    0  ...     0     0     1     0     0     0   \n",
       "4   5   w  s  as  c  d  y  i  m    0  ...     0     0     0     0     0     0   \n",
       "\n",
       "   X383  X384  X385   y  \n",
       "0     0     0     0 NaN  \n",
       "1     0     0     0 NaN  \n",
       "2     0     0     0 NaN  \n",
       "3     0     0     0 NaN  \n",
       "4     0     0     0 NaN  \n",
       "\n",
       "[5 rows x 378 columns]"
      ]
     },
     "execution_count": 7,
     "metadata": {},
     "output_type": "execute_result"
    }
   ],
   "source": [
    "df.head()"
   ]
  },
  {
   "cell_type": "code",
   "execution_count": 8,
   "id": "af9c3c57",
   "metadata": {},
   "outputs": [
    {
     "data": {
      "text/html": [
       "<div>\n",
       "<style scoped>\n",
       "    .dataframe tbody tr th:only-of-type {\n",
       "        vertical-align: middle;\n",
       "    }\n",
       "\n",
       "    .dataframe tbody tr th {\n",
       "        vertical-align: top;\n",
       "    }\n",
       "\n",
       "    .dataframe thead th {\n",
       "        text-align: right;\n",
       "    }\n",
       "</style>\n",
       "<table border=\"1\" class=\"dataframe\">\n",
       "  <thead>\n",
       "    <tr style=\"text-align: right;\">\n",
       "      <th></th>\n",
       "      <th>ID</th>\n",
       "      <th>X10</th>\n",
       "      <th>X11</th>\n",
       "      <th>X12</th>\n",
       "      <th>X13</th>\n",
       "      <th>X14</th>\n",
       "      <th>X15</th>\n",
       "      <th>X16</th>\n",
       "      <th>X17</th>\n",
       "      <th>X18</th>\n",
       "      <th>...</th>\n",
       "      <th>X376</th>\n",
       "      <th>X377</th>\n",
       "      <th>X378</th>\n",
       "      <th>X379</th>\n",
       "      <th>X380</th>\n",
       "      <th>X382</th>\n",
       "      <th>X383</th>\n",
       "      <th>X384</th>\n",
       "      <th>X385</th>\n",
       "      <th>y</th>\n",
       "    </tr>\n",
       "  </thead>\n",
       "  <tbody>\n",
       "    <tr>\n",
       "      <th>count</th>\n",
       "      <td>8418.000000</td>\n",
       "      <td>8418.000000</td>\n",
       "      <td>8418.000000</td>\n",
       "      <td>8418.000000</td>\n",
       "      <td>8418.000000</td>\n",
       "      <td>8418.000000</td>\n",
       "      <td>8418.000000</td>\n",
       "      <td>8418.000000</td>\n",
       "      <td>8418.000000</td>\n",
       "      <td>8418.000000</td>\n",
       "      <td>...</td>\n",
       "      <td>8418.000000</td>\n",
       "      <td>8418.000000</td>\n",
       "      <td>8418.000000</td>\n",
       "      <td>8418.000000</td>\n",
       "      <td>8418.000000</td>\n",
       "      <td>8418.000000</td>\n",
       "      <td>8418.000000</td>\n",
       "      <td>8418.000000</td>\n",
       "      <td>8418.000000</td>\n",
       "      <td>4209.000000</td>\n",
       "    </tr>\n",
       "    <tr>\n",
       "      <th>mean</th>\n",
       "      <td>4208.500000</td>\n",
       "      <td>0.016156</td>\n",
       "      <td>0.000119</td>\n",
       "      <td>0.074721</td>\n",
       "      <td>0.059515</td>\n",
       "      <td>0.428011</td>\n",
       "      <td>0.000594</td>\n",
       "      <td>0.002613</td>\n",
       "      <td>0.008197</td>\n",
       "      <td>0.009028</td>\n",
       "      <td>...</td>\n",
       "      <td>0.053457</td>\n",
       "      <td>0.313376</td>\n",
       "      <td>0.019957</td>\n",
       "      <td>0.010691</td>\n",
       "      <td>0.008078</td>\n",
       "      <td>0.008197</td>\n",
       "      <td>0.001069</td>\n",
       "      <td>0.000594</td>\n",
       "      <td>0.001544</td>\n",
       "      <td>100.669318</td>\n",
       "    </tr>\n",
       "    <tr>\n",
       "      <th>std</th>\n",
       "      <td>2430.211616</td>\n",
       "      <td>0.126082</td>\n",
       "      <td>0.010899</td>\n",
       "      <td>0.262956</td>\n",
       "      <td>0.236601</td>\n",
       "      <td>0.494820</td>\n",
       "      <td>0.024366</td>\n",
       "      <td>0.051058</td>\n",
       "      <td>0.090169</td>\n",
       "      <td>0.094593</td>\n",
       "      <td>...</td>\n",
       "      <td>0.224956</td>\n",
       "      <td>0.463893</td>\n",
       "      <td>0.139862</td>\n",
       "      <td>0.102851</td>\n",
       "      <td>0.089519</td>\n",
       "      <td>0.090169</td>\n",
       "      <td>0.032682</td>\n",
       "      <td>0.024366</td>\n",
       "      <td>0.039270</td>\n",
       "      <td>12.679381</td>\n",
       "    </tr>\n",
       "    <tr>\n",
       "      <th>min</th>\n",
       "      <td>0.000000</td>\n",
       "      <td>0.000000</td>\n",
       "      <td>0.000000</td>\n",
       "      <td>0.000000</td>\n",
       "      <td>0.000000</td>\n",
       "      <td>0.000000</td>\n",
       "      <td>0.000000</td>\n",
       "      <td>0.000000</td>\n",
       "      <td>0.000000</td>\n",
       "      <td>0.000000</td>\n",
       "      <td>...</td>\n",
       "      <td>0.000000</td>\n",
       "      <td>0.000000</td>\n",
       "      <td>0.000000</td>\n",
       "      <td>0.000000</td>\n",
       "      <td>0.000000</td>\n",
       "      <td>0.000000</td>\n",
       "      <td>0.000000</td>\n",
       "      <td>0.000000</td>\n",
       "      <td>0.000000</td>\n",
       "      <td>72.110000</td>\n",
       "    </tr>\n",
       "    <tr>\n",
       "      <th>25%</th>\n",
       "      <td>2104.250000</td>\n",
       "      <td>0.000000</td>\n",
       "      <td>0.000000</td>\n",
       "      <td>0.000000</td>\n",
       "      <td>0.000000</td>\n",
       "      <td>0.000000</td>\n",
       "      <td>0.000000</td>\n",
       "      <td>0.000000</td>\n",
       "      <td>0.000000</td>\n",
       "      <td>0.000000</td>\n",
       "      <td>...</td>\n",
       "      <td>0.000000</td>\n",
       "      <td>0.000000</td>\n",
       "      <td>0.000000</td>\n",
       "      <td>0.000000</td>\n",
       "      <td>0.000000</td>\n",
       "      <td>0.000000</td>\n",
       "      <td>0.000000</td>\n",
       "      <td>0.000000</td>\n",
       "      <td>0.000000</td>\n",
       "      <td>90.820000</td>\n",
       "    </tr>\n",
       "    <tr>\n",
       "      <th>50%</th>\n",
       "      <td>4208.500000</td>\n",
       "      <td>0.000000</td>\n",
       "      <td>0.000000</td>\n",
       "      <td>0.000000</td>\n",
       "      <td>0.000000</td>\n",
       "      <td>0.000000</td>\n",
       "      <td>0.000000</td>\n",
       "      <td>0.000000</td>\n",
       "      <td>0.000000</td>\n",
       "      <td>0.000000</td>\n",
       "      <td>...</td>\n",
       "      <td>0.000000</td>\n",
       "      <td>0.000000</td>\n",
       "      <td>0.000000</td>\n",
       "      <td>0.000000</td>\n",
       "      <td>0.000000</td>\n",
       "      <td>0.000000</td>\n",
       "      <td>0.000000</td>\n",
       "      <td>0.000000</td>\n",
       "      <td>0.000000</td>\n",
       "      <td>99.150000</td>\n",
       "    </tr>\n",
       "    <tr>\n",
       "      <th>75%</th>\n",
       "      <td>6312.750000</td>\n",
       "      <td>0.000000</td>\n",
       "      <td>0.000000</td>\n",
       "      <td>0.000000</td>\n",
       "      <td>0.000000</td>\n",
       "      <td>1.000000</td>\n",
       "      <td>0.000000</td>\n",
       "      <td>0.000000</td>\n",
       "      <td>0.000000</td>\n",
       "      <td>0.000000</td>\n",
       "      <td>...</td>\n",
       "      <td>0.000000</td>\n",
       "      <td>1.000000</td>\n",
       "      <td>0.000000</td>\n",
       "      <td>0.000000</td>\n",
       "      <td>0.000000</td>\n",
       "      <td>0.000000</td>\n",
       "      <td>0.000000</td>\n",
       "      <td>0.000000</td>\n",
       "      <td>0.000000</td>\n",
       "      <td>109.010000</td>\n",
       "    </tr>\n",
       "    <tr>\n",
       "      <th>max</th>\n",
       "      <td>8417.000000</td>\n",
       "      <td>1.000000</td>\n",
       "      <td>1.000000</td>\n",
       "      <td>1.000000</td>\n",
       "      <td>1.000000</td>\n",
       "      <td>1.000000</td>\n",
       "      <td>1.000000</td>\n",
       "      <td>1.000000</td>\n",
       "      <td>1.000000</td>\n",
       "      <td>1.000000</td>\n",
       "      <td>...</td>\n",
       "      <td>1.000000</td>\n",
       "      <td>1.000000</td>\n",
       "      <td>1.000000</td>\n",
       "      <td>1.000000</td>\n",
       "      <td>1.000000</td>\n",
       "      <td>1.000000</td>\n",
       "      <td>1.000000</td>\n",
       "      <td>1.000000</td>\n",
       "      <td>1.000000</td>\n",
       "      <td>265.320000</td>\n",
       "    </tr>\n",
       "  </tbody>\n",
       "</table>\n",
       "<p>8 rows × 370 columns</p>\n",
       "</div>"
      ],
      "text/plain": [
       "                ID          X10          X11          X12          X13  \\\n",
       "count  8418.000000  8418.000000  8418.000000  8418.000000  8418.000000   \n",
       "mean   4208.500000     0.016156     0.000119     0.074721     0.059515   \n",
       "std    2430.211616     0.126082     0.010899     0.262956     0.236601   \n",
       "min       0.000000     0.000000     0.000000     0.000000     0.000000   \n",
       "25%    2104.250000     0.000000     0.000000     0.000000     0.000000   \n",
       "50%    4208.500000     0.000000     0.000000     0.000000     0.000000   \n",
       "75%    6312.750000     0.000000     0.000000     0.000000     0.000000   \n",
       "max    8417.000000     1.000000     1.000000     1.000000     1.000000   \n",
       "\n",
       "               X14          X15          X16          X17          X18  ...  \\\n",
       "count  8418.000000  8418.000000  8418.000000  8418.000000  8418.000000  ...   \n",
       "mean      0.428011     0.000594     0.002613     0.008197     0.009028  ...   \n",
       "std       0.494820     0.024366     0.051058     0.090169     0.094593  ...   \n",
       "min       0.000000     0.000000     0.000000     0.000000     0.000000  ...   \n",
       "25%       0.000000     0.000000     0.000000     0.000000     0.000000  ...   \n",
       "50%       0.000000     0.000000     0.000000     0.000000     0.000000  ...   \n",
       "75%       1.000000     0.000000     0.000000     0.000000     0.000000  ...   \n",
       "max       1.000000     1.000000     1.000000     1.000000     1.000000  ...   \n",
       "\n",
       "              X376         X377         X378         X379         X380  \\\n",
       "count  8418.000000  8418.000000  8418.000000  8418.000000  8418.000000   \n",
       "mean      0.053457     0.313376     0.019957     0.010691     0.008078   \n",
       "std       0.224956     0.463893     0.139862     0.102851     0.089519   \n",
       "min       0.000000     0.000000     0.000000     0.000000     0.000000   \n",
       "25%       0.000000     0.000000     0.000000     0.000000     0.000000   \n",
       "50%       0.000000     0.000000     0.000000     0.000000     0.000000   \n",
       "75%       0.000000     1.000000     0.000000     0.000000     0.000000   \n",
       "max       1.000000     1.000000     1.000000     1.000000     1.000000   \n",
       "\n",
       "              X382         X383         X384         X385            y  \n",
       "count  8418.000000  8418.000000  8418.000000  8418.000000  4209.000000  \n",
       "mean      0.008197     0.001069     0.000594     0.001544   100.669318  \n",
       "std       0.090169     0.032682     0.024366     0.039270    12.679381  \n",
       "min       0.000000     0.000000     0.000000     0.000000    72.110000  \n",
       "25%       0.000000     0.000000     0.000000     0.000000    90.820000  \n",
       "50%       0.000000     0.000000     0.000000     0.000000    99.150000  \n",
       "75%       0.000000     0.000000     0.000000     0.000000   109.010000  \n",
       "max       1.000000     1.000000     1.000000     1.000000   265.320000  \n",
       "\n",
       "[8 rows x 370 columns]"
      ]
     },
     "execution_count": 8,
     "metadata": {},
     "output_type": "execute_result"
    }
   ],
   "source": [
    "df.describe()"
   ]
  },
  {
   "cell_type": "code",
   "execution_count": 9,
   "id": "e3e331b7",
   "metadata": {},
   "outputs": [],
   "source": [
    "var = df.var()"
   ]
  },
  {
   "cell_type": "code",
   "execution_count": 10,
   "id": "d56ffa7f",
   "metadata": {},
   "outputs": [],
   "source": [
    "var = pd.DataFrame(var)"
   ]
  },
  {
   "cell_type": "code",
   "execution_count": 11,
   "id": "a8605865",
   "metadata": {},
   "outputs": [
    {
     "data": {
      "text/plain": [
       "0"
      ]
     },
     "execution_count": 11,
     "metadata": {},
     "output_type": "execute_result"
    }
   ],
   "source": [
    "var[var[0]==0].shape[0]"
   ]
  },
  {
   "cell_type": "code",
   "execution_count": 12,
   "id": "16e2ed4e",
   "metadata": {},
   "outputs": [
    {
     "data": {
      "text/html": [
       "<div>\n",
       "<style scoped>\n",
       "    .dataframe tbody tr th:only-of-type {\n",
       "        vertical-align: middle;\n",
       "    }\n",
       "\n",
       "    .dataframe tbody tr th {\n",
       "        vertical-align: top;\n",
       "    }\n",
       "\n",
       "    .dataframe thead th {\n",
       "        text-align: right;\n",
       "    }\n",
       "</style>\n",
       "<table border=\"1\" class=\"dataframe\">\n",
       "  <thead>\n",
       "    <tr style=\"text-align: right;\">\n",
       "      <th></th>\n",
       "      <th>0</th>\n",
       "    </tr>\n",
       "  </thead>\n",
       "  <tbody>\n",
       "    <tr>\n",
       "      <th>X257</th>\n",
       "      <td>1.187931e-04</td>\n",
       "    </tr>\n",
       "    <tr>\n",
       "      <th>X295</th>\n",
       "      <td>1.187931e-04</td>\n",
       "    </tr>\n",
       "    <tr>\n",
       "      <th>X296</th>\n",
       "      <td>1.187931e-04</td>\n",
       "    </tr>\n",
       "    <tr>\n",
       "      <th>X233</th>\n",
       "      <td>1.187931e-04</td>\n",
       "    </tr>\n",
       "    <tr>\n",
       "      <th>X293</th>\n",
       "      <td>1.187931e-04</td>\n",
       "    </tr>\n",
       "    <tr>\n",
       "      <th>...</th>\n",
       "      <td>...</td>\n",
       "    </tr>\n",
       "    <tr>\n",
       "      <th>X337</th>\n",
       "      <td>2.495571e-01</td>\n",
       "    </tr>\n",
       "    <tr>\n",
       "      <th>X362</th>\n",
       "      <td>2.496639e-01</td>\n",
       "    </tr>\n",
       "    <tr>\n",
       "      <th>X127</th>\n",
       "      <td>2.499416e-01</td>\n",
       "    </tr>\n",
       "    <tr>\n",
       "      <th>y</th>\n",
       "      <td>1.607667e+02</td>\n",
       "    </tr>\n",
       "    <tr>\n",
       "      <th>ID</th>\n",
       "      <td>5.905928e+06</td>\n",
       "    </tr>\n",
       "  </tbody>\n",
       "</table>\n",
       "<p>370 rows × 1 columns</p>\n",
       "</div>"
      ],
      "text/plain": [
       "                 0\n",
       "X257  1.187931e-04\n",
       "X295  1.187931e-04\n",
       "X296  1.187931e-04\n",
       "X233  1.187931e-04\n",
       "X293  1.187931e-04\n",
       "...            ...\n",
       "X337  2.495571e-01\n",
       "X362  2.496639e-01\n",
       "X127  2.499416e-01\n",
       "y     1.607667e+02\n",
       "ID    5.905928e+06\n",
       "\n",
       "[370 rows x 1 columns]"
      ]
     },
     "execution_count": 12,
     "metadata": {},
     "output_type": "execute_result"
    }
   ],
   "source": [
    "var.sort_values('ascending' == True)"
   ]
  },
  {
   "cell_type": "markdown",
   "id": "ed75adca",
   "metadata": {},
   "source": [
    "#### Interpretation : In this dataset no column contain varience as 0  "
   ]
  },
  {
   "cell_type": "code",
   "execution_count": 13,
   "id": "de746251",
   "metadata": {},
   "outputs": [
    {
     "data": {
      "text/plain": [
       "ID      0\n",
       "X0      0\n",
       "X1      0\n",
       "X2      0\n",
       "X3      0\n",
       "       ..\n",
       "X380    0\n",
       "X382    0\n",
       "X383    0\n",
       "X384    0\n",
       "X385    0\n",
       "Length: 377, dtype: int64"
      ]
     },
     "execution_count": 13,
     "metadata": {},
     "output_type": "execute_result"
    }
   ],
   "source": [
    "test.isnull().sum()"
   ]
  },
  {
   "cell_type": "code",
   "execution_count": 14,
   "id": "7dd2c249",
   "metadata": {},
   "outputs": [
    {
     "data": {
      "text/plain": [
       "0"
      ]
     },
     "execution_count": 14,
     "metadata": {},
     "output_type": "execute_result"
    }
   ],
   "source": [
    "test.isnull().sum().max()"
   ]
  },
  {
   "cell_type": "code",
   "execution_count": 15,
   "id": "c341b76e",
   "metadata": {},
   "outputs": [
    {
     "data": {
      "text/plain": [
       "ID      0\n",
       "y       0\n",
       "X0      0\n",
       "X1      0\n",
       "X2      0\n",
       "       ..\n",
       "X380    0\n",
       "X382    0\n",
       "X383    0\n",
       "X384    0\n",
       "X385    0\n",
       "Length: 378, dtype: int64"
      ]
     },
     "execution_count": 15,
     "metadata": {},
     "output_type": "execute_result"
    }
   ],
   "source": [
    "train.isnull().sum()"
   ]
  },
  {
   "cell_type": "code",
   "execution_count": 16,
   "id": "5cf9898b",
   "metadata": {},
   "outputs": [
    {
     "data": {
      "text/plain": [
       "0"
      ]
     },
     "execution_count": 16,
     "metadata": {},
     "output_type": "execute_result"
    }
   ],
   "source": [
    "train.isnull().sum().max()"
   ]
  },
  {
   "cell_type": "markdown",
   "id": "43d33552",
   "metadata": {},
   "source": [
    "#### Interpritation : In this data set both train & test dataset does not contain null values"
   ]
  },
  {
   "cell_type": "code",
   "execution_count": 17,
   "id": "23ed12d5",
   "metadata": {},
   "outputs": [
    {
     "data": {
      "text/plain": [
       "ID      4209\n",
       "X0        49\n",
       "X1        27\n",
       "X2        45\n",
       "X3         7\n",
       "        ... \n",
       "X380       2\n",
       "X382       2\n",
       "X383       2\n",
       "X384       2\n",
       "X385       2\n",
       "Length: 377, dtype: int64"
      ]
     },
     "execution_count": 17,
     "metadata": {},
     "output_type": "execute_result"
    }
   ],
   "source": [
    "test.nunique()"
   ]
  },
  {
   "cell_type": "code",
   "execution_count": 18,
   "id": "11b3f3ba",
   "metadata": {},
   "outputs": [
    {
     "data": {
      "text/plain": [
       "array(['n', 'ai', 'as', 'ae', 's', 'b', 'e', 'ak', 'm', 'a', 'aq', 'ag',\n",
       "       'r', 'k', 'aj', 'ay', 'ao', 'an', 'ac', 'af', 'ax', 'h', 'i', 'f',\n",
       "       'ap', 'p', 'au', 't', 'z', 'y', 'aw', 'd', 'at', 'g', 'am', 'j',\n",
       "       'x', 'ab', 'w', 'q', 'ah', 'ad', 'al', 'av', 'u'], dtype=object)"
      ]
     },
     "execution_count": 18,
     "metadata": {},
     "output_type": "execute_result"
    }
   ],
   "source": [
    "test['X2'].unique()"
   ]
  },
  {
   "cell_type": "code",
   "execution_count": 19,
   "id": "ebefd4ef",
   "metadata": {},
   "outputs": [
    {
     "data": {
      "text/plain": [
       "ID      4209\n",
       "y       2545\n",
       "X0        47\n",
       "X1        27\n",
       "X2        44\n",
       "        ... \n",
       "X380       2\n",
       "X382       2\n",
       "X383       2\n",
       "X384       2\n",
       "X385       2\n",
       "Length: 378, dtype: int64"
      ]
     },
     "execution_count": 19,
     "metadata": {},
     "output_type": "execute_result"
    }
   ],
   "source": [
    "train.nunique()"
   ]
  },
  {
   "cell_type": "code",
   "execution_count": 20,
   "id": "8817b457",
   "metadata": {},
   "outputs": [
    {
     "data": {
      "text/plain": [
       "array(['a', 'e', 'c', 'f', 'd', 'b', 'g'], dtype=object)"
      ]
     },
     "execution_count": 20,
     "metadata": {},
     "output_type": "execute_result"
    }
   ],
   "source": [
    "train['X3'].unique()"
   ]
  },
  {
   "cell_type": "markdown",
   "id": "b2672605",
   "metadata": {},
   "source": [
    "Lable Encoder"
   ]
  },
  {
   "cell_type": "code",
   "execution_count": 21,
   "id": "165b6f2f",
   "metadata": {},
   "outputs": [],
   "source": [
    "from sklearn.preprocessing import LabelEncoder"
   ]
  },
  {
   "cell_type": "code",
   "execution_count": 22,
   "id": "9e2a1b02",
   "metadata": {},
   "outputs": [],
   "source": [
    "le=LabelEncoder()"
   ]
  },
  {
   "cell_type": "code",
   "execution_count": 23,
   "id": "b6acae97",
   "metadata": {},
   "outputs": [],
   "source": [
    "# encode multipal col \n",
    "\n",
    "test[['X0','X1','X2','X3','X4','X5','X6','X8']]=test[['X0','X1','X2','X3','X4','X5','X6','X8']].apply(le.fit_transform)"
   ]
  },
  {
   "cell_type": "code",
   "execution_count": 24,
   "id": "d992cfbf",
   "metadata": {},
   "outputs": [
    {
     "name": "stdout",
     "output_type": "stream",
     "text": [
      "      X0  X1  X2  X3  X4  X5  X6  X8\n",
      "0     21  23  34   5   3  26   0  22\n",
      "1     42   3   8   0   3   9   6  24\n",
      "2     21  23  17   5   3   0   9   9\n",
      "3     21  13  34   5   3  31  11  13\n",
      "4     45  20  17   2   3  30   8  12\n",
      "...   ..  ..  ..  ..  ..  ..  ..  ..\n",
      "4204   6   9  17   5   3   1   9   4\n",
      "4205  42   1   8   3   3   1   9  24\n",
      "4206  47  23  17   5   3   1   3  22\n",
      "4207   7  23  17   0   3   1   2  16\n",
      "4208  42   1   8   2   3   1   6  17\n",
      "\n",
      "[4209 rows x 8 columns]\n"
     ]
    }
   ],
   "source": [
    "print(test[['X0','X1','X2','X3','X4','X5','X6','X8']])"
   ]
  },
  {
   "cell_type": "code",
   "execution_count": 25,
   "id": "e1c66e76",
   "metadata": {},
   "outputs": [],
   "source": [
    "train[['X0','X1','X2','X3','X4','X5','X6','X8']] = test[['X0','X1','X2','X3','X4','X5','X6','X8']].apply(le.fit_transform)"
   ]
  },
  {
   "cell_type": "code",
   "execution_count": 26,
   "id": "bbb61385",
   "metadata": {},
   "outputs": [
    {
     "name": "stdout",
     "output_type": "stream",
     "text": [
      "      X0  X1  X2  X3  X4  X5  X6  X8\n",
      "0     21  23  34   5   3  26   0  22\n",
      "1     42   3   8   0   3   9   6  24\n",
      "2     21  23  17   5   3   0   9   9\n",
      "3     21  13  34   5   3  31  11  13\n",
      "4     45  20  17   2   3  30   8  12\n",
      "...   ..  ..  ..  ..  ..  ..  ..  ..\n",
      "4204   6   9  17   5   3   1   9   4\n",
      "4205  42   1   8   3   3   1   9  24\n",
      "4206  47  23  17   5   3   1   3  22\n",
      "4207   7  23  17   0   3   1   2  16\n",
      "4208  42   1   8   2   3   1   6  17\n",
      "\n",
      "[4209 rows x 8 columns]\n"
     ]
    }
   ],
   "source": [
    "print(train[['X0','X1','X2','X3','X4','X5','X6','X8']])"
   ]
  },
  {
   "cell_type": "markdown",
   "id": "a9d4124b",
   "metadata": {},
   "source": [
    "4.Perform diamensionally reduction"
   ]
  },
  {
   "cell_type": "code",
   "execution_count": 27,
   "id": "7d3583a2",
   "metadata": {},
   "outputs": [],
   "source": [
    "x = train.drop(columns = [\"y\"])\n",
    "y = train[\"y\"]"
   ]
  },
  {
   "cell_type": "code",
   "execution_count": 28,
   "id": "1a456d7c",
   "metadata": {},
   "outputs": [],
   "source": [
    "from sklearn.model_selection import train_test_split\n",
    "xtrain, xtest,ytrain,ytest=train_test_split(x,y,test_size=0.2)"
   ]
  },
  {
   "cell_type": "code",
   "execution_count": 29,
   "id": "47b73bf3",
   "metadata": {},
   "outputs": [
    {
     "data": {
      "text/plain": [
       "PCA()"
      ]
     },
     "execution_count": 29,
     "metadata": {},
     "output_type": "execute_result"
    }
   ],
   "source": [
    "from sklearn.decomposition import PCA \n",
    "\n",
    "model = PCA()\n",
    "\n",
    "model.fit(xtrain)"
   ]
  },
  {
   "cell_type": "code",
   "execution_count": 30,
   "id": "432cfa82",
   "metadata": {},
   "outputs": [
    {
     "data": {
      "text/plain": [
       "array([9.99910577e-01, 4.08368829e-05, 1.68383533e-05, 1.05826364e-05,\n",
       "       8.19109813e-06, 7.36228689e-06, 1.33985743e-06, 5.10488763e-07,\n",
       "       4.76611412e-07, 3.39492882e-07, 3.27793670e-07, 2.63091521e-07,\n",
       "       2.22692695e-07, 1.78598315e-07, 1.44468109e-07, 1.24259316e-07,\n",
       "       1.04660098e-07, 9.52443662e-08, 8.81231669e-08, 7.55491779e-08,\n",
       "       6.48384046e-08, 6.35961346e-08, 5.75373731e-08, 5.57499081e-08,\n",
       "       5.30871605e-08, 4.59650445e-08, 3.94137124e-08, 3.84078606e-08,\n",
       "       3.72441240e-08, 3.31291046e-08, 3.25137672e-08, 3.10299678e-08,\n",
       "       3.05303639e-08, 2.80229932e-08, 2.75312017e-08, 2.39454584e-08,\n",
       "       2.31874690e-08, 2.14892544e-08, 1.95711629e-08, 1.86477181e-08,\n",
       "       1.76961822e-08, 1.73945938e-08, 1.65027880e-08, 1.60861864e-08,\n",
       "       1.57755416e-08, 1.47174413e-08, 1.45753660e-08, 1.35868487e-08,\n",
       "       1.32217516e-08, 1.28862430e-08, 1.26579525e-08, 1.21005694e-08,\n",
       "       1.18207165e-08, 1.12082558e-08, 1.06964150e-08, 1.06431009e-08,\n",
       "       9.86546369e-09, 9.61723134e-09, 9.36725499e-09, 9.02115911e-09,\n",
       "       8.87257390e-09, 8.50615218e-09, 8.36206456e-09, 7.88006227e-09,\n",
       "       7.73672486e-09, 7.32135555e-09, 7.20844497e-09, 6.78596886e-09,\n",
       "       6.74890211e-09, 6.46010745e-09, 6.39624006e-09, 6.30648229e-09,\n",
       "       6.04948649e-09, 5.93865075e-09, 5.63245729e-09, 5.57156331e-09,\n",
       "       5.38717109e-09, 5.22766323e-09, 5.15336534e-09, 5.06325131e-09,\n",
       "       5.01044725e-09, 4.91791960e-09, 4.67725977e-09, 4.55132877e-09,\n",
       "       4.39466585e-09, 4.13392109e-09, 4.10866221e-09, 4.06423082e-09,\n",
       "       3.90605749e-09, 3.84842704e-09, 3.82275637e-09, 3.65911758e-09,\n",
       "       3.54271178e-09, 3.43611665e-09, 3.39457734e-09, 3.27734654e-09,\n",
       "       3.20867139e-09, 3.17955219e-09, 3.11906261e-09, 3.04463696e-09,\n",
       "       2.92948754e-09, 2.84297531e-09, 2.76645464e-09, 2.75385873e-09,\n",
       "       2.66795231e-09, 2.53680095e-09, 2.45633410e-09, 2.45019913e-09,\n",
       "       2.36515533e-09, 2.26332881e-09, 2.18901422e-09, 2.17889209e-09,\n",
       "       2.14266504e-09, 2.05449369e-09, 2.01366831e-09, 2.00140668e-09,\n",
       "       1.90522338e-09, 1.86072509e-09, 1.82733511e-09, 1.74632851e-09,\n",
       "       1.67285608e-09, 1.66414278e-09, 1.63839578e-09, 1.59622827e-09,\n",
       "       1.50244668e-09, 1.46801951e-09, 1.40078844e-09, 1.39124286e-09,\n",
       "       1.35696162e-09, 1.31166406e-09, 1.28654459e-09, 1.27873434e-09,\n",
       "       1.25040438e-09, 1.23004095e-09, 1.22470987e-09, 1.18044869e-09,\n",
       "       1.15125803e-09, 1.11112764e-09, 1.10544737e-09, 1.08659074e-09,\n",
       "       1.05546227e-09, 1.02666987e-09, 9.77966635e-10, 9.30396391e-10,\n",
       "       8.90150877e-10, 8.69616048e-10, 8.44750394e-10, 8.15919192e-10,\n",
       "       7.87096104e-10, 7.83352438e-10, 7.60977385e-10, 7.39081651e-10,\n",
       "       7.20429892e-10, 7.03477240e-10, 6.80138089e-10, 6.61797768e-10,\n",
       "       6.43324418e-10, 6.34342278e-10, 6.05950304e-10, 5.91891394e-10,\n",
       "       5.68338360e-10, 5.52584993e-10, 5.42913469e-10, 5.39738070e-10,\n",
       "       5.22110152e-10, 5.01253706e-10, 4.80080811e-10, 4.67975866e-10,\n",
       "       4.51484633e-10, 4.31020273e-10, 4.21971256e-10, 4.06854402e-10,\n",
       "       3.93738028e-10, 3.88146224e-10, 3.81783576e-10, 3.68064991e-10,\n",
       "       3.52461298e-10, 3.38283997e-10, 3.27779497e-10, 3.17827935e-10,\n",
       "       3.10022889e-10, 2.87609234e-10, 2.78198291e-10, 2.68954369e-10,\n",
       "       2.55735254e-10, 2.55018107e-10, 2.50572799e-10, 2.40900842e-10,\n",
       "       2.37348302e-10, 2.32255727e-10, 2.26212781e-10, 2.20873987e-10,\n",
       "       2.16654153e-10, 2.12650988e-10, 2.06056720e-10, 1.95635628e-10,\n",
       "       1.92737985e-10, 1.89930671e-10, 1.84068126e-10, 1.77800841e-10,\n",
       "       1.70064449e-10, 1.67794273e-10, 1.55936288e-10, 1.51629213e-10,\n",
       "       1.49234316e-10, 1.41886543e-10, 1.41644172e-10, 1.40199966e-10,\n",
       "       1.36080047e-10, 1.31987121e-10, 1.27453108e-10, 1.16632165e-10,\n",
       "       1.14384295e-10, 1.03603084e-10, 9.99652909e-11, 9.21854541e-11,\n",
       "       8.85061033e-11, 8.30048282e-11, 7.97127685e-11, 7.80623915e-11,\n",
       "       7.44801505e-11, 7.35240332e-11, 7.09533221e-11, 6.62612334e-11,\n",
       "       6.17242569e-11, 6.10302308e-11, 5.45235981e-11, 5.14402742e-11,\n",
       "       5.05860282e-11, 4.79592980e-11, 4.66570337e-11, 4.59946652e-11,\n",
       "       4.34010639e-11, 4.27006291e-11, 4.09805980e-11, 4.04586372e-11,\n",
       "       3.83357839e-11, 3.55086898e-11, 3.42658528e-11, 2.88904229e-11,\n",
       "       2.41626724e-11, 1.89073342e-11, 1.85449546e-11, 1.61129138e-11,\n",
       "       1.41861127e-11, 1.22866386e-11, 1.06101352e-11, 6.48665781e-12,\n",
       "       9.98307469e-33, 9.98307469e-33, 9.98307469e-33, 9.98307469e-33,\n",
       "       9.98307469e-33, 9.98307469e-33, 9.98307469e-33, 9.98307469e-33,\n",
       "       9.98307469e-33, 9.98307469e-33, 9.98307469e-33, 9.98307469e-33,\n",
       "       9.98307469e-33, 9.98307469e-33, 9.98307469e-33, 9.98307469e-33,\n",
       "       9.98307469e-33, 9.98307469e-33, 9.98307469e-33, 9.98307469e-33,\n",
       "       9.98307469e-33, 9.98307469e-33, 9.98307469e-33, 9.98307469e-33,\n",
       "       9.98307469e-33, 9.98307469e-33, 9.98307469e-33, 9.98307469e-33,\n",
       "       9.98307469e-33, 9.98307469e-33, 9.98307469e-33, 9.98307469e-33,\n",
       "       9.98307469e-33, 9.98307469e-33, 9.98307469e-33, 9.98307469e-33,\n",
       "       9.98307469e-33, 9.98307469e-33, 9.98307469e-33, 9.98307469e-33,\n",
       "       9.98307469e-33, 9.98307469e-33, 9.98307469e-33, 9.98307469e-33,\n",
       "       9.98307469e-33, 9.98307469e-33, 9.98307469e-33, 9.98307469e-33,\n",
       "       9.98307469e-33, 9.98307469e-33, 9.98307469e-33, 9.98307469e-33,\n",
       "       9.98307469e-33, 9.98307469e-33, 9.98307469e-33, 9.98307469e-33,\n",
       "       9.98307469e-33, 9.98307469e-33, 9.98307469e-33, 9.98307469e-33,\n",
       "       9.98307469e-33, 9.98307469e-33, 9.98307469e-33, 9.98307469e-33,\n",
       "       9.98307469e-33, 9.98307469e-33, 9.98307469e-33, 9.98307469e-33,\n",
       "       9.98307469e-33, 9.98307469e-33, 9.98307469e-33, 9.98307469e-33,\n",
       "       9.98307469e-33, 9.98307469e-33, 9.98307469e-33, 9.98307469e-33,\n",
       "       9.98307469e-33, 9.98307469e-33, 9.98307469e-33, 9.98307469e-33,\n",
       "       9.98307469e-33, 9.98307469e-33, 9.98307469e-33, 9.98307469e-33,\n",
       "       9.98307469e-33, 9.98307469e-33, 9.98307469e-33, 9.98307469e-33,\n",
       "       9.98307469e-33, 9.98307469e-33, 9.98307469e-33, 9.98307469e-33,\n",
       "       9.98307469e-33, 9.98307469e-33, 9.98307469e-33, 9.98307469e-33,\n",
       "       9.98307469e-33, 9.98307469e-33, 9.98307469e-33, 9.98307469e-33,\n",
       "       9.98307469e-33, 9.98307469e-33, 9.98307469e-33, 9.98307469e-33,\n",
       "       9.98307469e-33, 9.98307469e-33, 9.98307469e-33, 9.98307469e-33,\n",
       "       9.98307469e-33, 9.98307469e-33, 9.98307469e-33, 9.98307469e-33,\n",
       "       9.98307469e-33, 9.98307469e-33, 9.98307469e-33, 9.98307469e-33,\n",
       "       9.98307469e-33, 9.98307469e-33, 9.98307469e-33, 9.98307469e-33,\n",
       "       9.98307469e-33, 9.98307469e-33, 9.98307469e-33, 9.98307469e-33,\n",
       "       9.98307469e-33, 9.98307469e-33, 9.98307469e-33, 9.98307469e-33,\n",
       "       1.82395209e-39])"
      ]
     },
     "execution_count": 30,
     "metadata": {},
     "output_type": "execute_result"
    }
   ],
   "source": [
    "model.explained_variance_ratio_"
   ]
  },
  {
   "cell_type": "code",
   "execution_count": 31,
   "id": "cf373ae2",
   "metadata": {},
   "outputs": [
    {
     "data": {
      "image/png": "[encoded data removed]",
      "text/plain": [
       "<Figure size 432x288 with 1 Axes>"
      ]
     },
     "metadata": {
      "needs_background": "light"
     },
     "output_type": "display_data"
    }
   ],
   "source": [
    "plt.plot(model.explained_variance_ratio_)\n",
    "plt.show()"
   ]
  },
  {
   "cell_type": "markdown",
   "id": "5f8fa7e7",
   "metadata": {},
   "source": [
    "###### Elbow plot for variance and diamention"
   ]
  },
  {
   "cell_type": "code",
   "execution_count": 32,
   "id": "524118fc",
   "metadata": {},
   "outputs": [
    {
     "data": {
      "text/plain": [
       "array([ 99.99105774,  99.99514143,  99.99682527,  99.99788353,\n",
       "        99.99870264,  99.99943887,  99.99957286,  99.99962391,\n",
       "        99.99967157,  99.99970552,  99.9997383 ,  99.9997646 ,\n",
       "        99.99978687,  99.99980473,  99.99981918,  99.99983161,\n",
       "        99.99984207,  99.9998516 ,  99.99986041,  99.99986796,\n",
       "        99.99987445,  99.99988081,  99.99988656,  99.99989214,\n",
       "        99.99989744,  99.99990204,  99.99990598,  99.99990982,\n",
       "        99.99991355,  99.99991686,  99.99992011,  99.99992321,\n",
       "        99.99992627,  99.99992907,  99.99993182,  99.99993422,\n",
       "        99.99993654,  99.99993869,  99.99994064,  99.99994251,\n",
       "        99.99994428,  99.99994602,  99.99994767,  99.99994928,\n",
       "        99.99995085,  99.99995232,  99.99995378,  99.99995514,\n",
       "        99.99995646,  99.99995775,  99.99995902,  99.99996023,\n",
       "        99.99996141,  99.99996253,  99.9999636 ,  99.99996466,\n",
       "        99.99996565,  99.99996661,  99.99996755,  99.99996845,\n",
       "        99.99996934,  99.99997019,  99.99997103,  99.99997181,\n",
       "        99.99997259,  99.99997332,  99.99997404,  99.99997472,\n",
       "        99.99997539,  99.99997604,  99.99997668,  99.99997731,\n",
       "        99.99997792,  99.99997851,  99.99997907,  99.99997963,\n",
       "        99.99998017,  99.99998069,  99.99998121,  99.99998171,\n",
       "        99.99998221,  99.99998271,  99.99998317,  99.99998363,\n",
       "        99.99998407,  99.99998448,  99.99998489,  99.9999853 ,\n",
       "        99.99998569,  99.99998607,  99.99998646,  99.99998682,\n",
       "        99.99998718,  99.99998752,  99.99998786,  99.99998819,\n",
       "        99.99998851,  99.99998883,  99.99998914,  99.99998944,\n",
       "        99.99998974,  99.99999002,  99.9999903 ,  99.99999057,\n",
       "        99.99999084,  99.99999109,  99.99999134,  99.99999158,\n",
       "        99.99999182,  99.99999205,  99.99999226,  99.99999248,\n",
       "        99.9999927 ,  99.9999929 ,  99.9999931 ,  99.9999933 ,\n",
       "        99.99999349,  99.99999368,  99.99999386,  99.99999404,\n",
       "        99.9999942 ,  99.99999437,  99.99999453,  99.99999469,\n",
       "        99.99999484,  99.99999499,  99.99999513,  99.99999527,\n",
       "        99.99999541,  99.99999554,  99.99999567,  99.99999579,\n",
       "        99.99999592,  99.99999604,  99.99999616,  99.99999628,\n",
       "        99.9999964 ,  99.99999651,  99.99999662,  99.99999673,\n",
       "        99.99999683,  99.99999694,  99.99999703,  99.99999713,\n",
       "        99.99999722,  99.9999973 ,  99.99999739,  99.99999747,\n",
       "        99.99999755,  99.99999763,  99.9999977 ,  99.99999778,\n",
       "        99.99999785,  99.99999792,  99.99999799,  99.99999805,\n",
       "        99.99999812,  99.99999818,  99.99999824,  99.9999983 ,\n",
       "        99.99999836,  99.99999841,  99.99999847,  99.99999852,\n",
       "        99.99999857,  99.99999862,  99.99999867,  99.99999872,\n",
       "        99.99999876,  99.99999881,  99.99999885,  99.99999889,\n",
       "        99.99999893,  99.99999897,  99.99999901,  99.99999904,\n",
       "        99.99999908,  99.99999911,  99.99999914,  99.99999918,\n",
       "        99.99999921,  99.99999924,  99.99999926,  99.99999929,\n",
       "        99.99999932,  99.99999934,  99.99999937,  99.99999939,\n",
       "        99.99999941,  99.99999944,  99.99999946,  99.99999948,\n",
       "        99.9999995 ,  99.99999953,  99.99999955,  99.99999957,\n",
       "        99.99999958,  99.9999996 ,  99.99999962,  99.99999964,\n",
       "        99.99999966,  99.99999967,  99.99999969,  99.9999997 ,\n",
       "        99.99999972,  99.99999973,  99.99999975,  99.99999976,\n",
       "        99.99999978,  99.99999979,  99.9999998 ,  99.99999981,\n",
       "        99.99999982,  99.99999983,  99.99999984,  99.99999985,\n",
       "        99.99999986,  99.99999987,  99.99999988,  99.99999989,\n",
       "        99.99999989,  99.9999999 ,  99.99999991,  99.99999992,\n",
       "        99.99999992,  99.99999993,  99.99999993,  99.99999994,\n",
       "        99.99999994,  99.99999995,  99.99999995,  99.99999996,\n",
       "        99.99999996,  99.99999997,  99.99999997,  99.99999997,\n",
       "        99.99999998,  99.99999998,  99.99999998,  99.99999999,\n",
       "        99.99999999,  99.99999999,  99.99999999, 100.        ,\n",
       "       100.        , 100.        , 100.        , 100.        ,\n",
       "       100.        , 100.        , 100.        , 100.        ,\n",
       "       100.        , 100.        , 100.        , 100.        ,\n",
       "       100.        , 100.        , 100.        , 100.        ,\n",
       "       100.        , 100.        , 100.        , 100.        ,\n",
       "       100.        , 100.        , 100.        , 100.        ,\n",
       "       100.        , 100.        , 100.        , 100.        ,\n",
       "       100.        , 100.        , 100.        , 100.        ,\n",
       "       100.        , 100.        , 100.        , 100.        ,\n",
       "       100.        , 100.        , 100.        , 100.        ,\n",
       "       100.        , 100.        , 100.        , 100.        ,\n",
       "       100.        , 100.        , 100.        , 100.        ,\n",
       "       100.        , 100.        , 100.        , 100.        ,\n",
       "       100.        , 100.        , 100.        , 100.        ,\n",
       "       100.        , 100.        , 100.        , 100.        ,\n",
       "       100.        , 100.        , 100.        , 100.        ,\n",
       "       100.        , 100.        , 100.        , 100.        ,\n",
       "       100.        , 100.        , 100.        , 100.        ,\n",
       "       100.        , 100.        , 100.        , 100.        ,\n",
       "       100.        , 100.        , 100.        , 100.        ,\n",
       "       100.        , 100.        , 100.        , 100.        ,\n",
       "       100.        , 100.        , 100.        , 100.        ,\n",
       "       100.        , 100.        , 100.        , 100.        ,\n",
       "       100.        , 100.        , 100.        , 100.        ,\n",
       "       100.        , 100.        , 100.        , 100.        ,\n",
       "       100.        , 100.        , 100.        , 100.        ,\n",
       "       100.        , 100.        , 100.        , 100.        ,\n",
       "       100.        , 100.        , 100.        , 100.        ,\n",
       "       100.        , 100.        , 100.        , 100.        ,\n",
       "       100.        , 100.        , 100.        , 100.        ,\n",
       "       100.        , 100.        , 100.        , 100.        ,\n",
       "       100.        , 100.        , 100.        , 100.        ,\n",
       "       100.        , 100.        , 100.        , 100.        ,\n",
       "       100.        ])"
      ]
     },
     "execution_count": 32,
     "metadata": {},
     "output_type": "execute_result"
    }
   ],
   "source": [
    "val = np.cumsum(model.explained_variance_ratio_)*100 \n",
    "val"
   ]
  },
  {
   "cell_type": "code",
   "execution_count": 33,
   "id": "a0a18d1c",
   "metadata": {},
   "outputs": [
    {
     "data": {
      "image/png": "[encoded data removed]",
      "text/plain": [
       "<Figure size 720x432 with 1 Axes>"
      ]
     },
     "metadata": {
      "needs_background": "light"
     },
     "output_type": "display_data"
    }
   ],
   "source": [
    "plt.figure(figsize = (10,6))\n",
    "plt.plot(range(1, len(val)+1), val, marker = 'o', label = \"Cumulative Explained Variance\")\n",
    "plt.axhline(y = 95, color = 'r', linestyle = '--', label = \"95% Explained Variance\")\n",
    "plt.axhline(y = 80, color = 'g', linestyle = '--', label = \"80% Explained Variance\")\n",
    "plt.xlabel(\"Dimensions\")\n",
    "plt.ylabel(\"Cumulative Explained Variance in %\")\n",
    "plt.legend()\n",
    "plt.show()"
   ]
  },
  {
   "cell_type": "code",
   "execution_count": 34,
   "id": "69c584a4",
   "metadata": {},
   "outputs": [],
   "source": [
    "pca = PCA(n_components = 0.95)\n",
    "pca.fit(xtrain)\n",
    "pca_xtrain = pca.transform(xtrain)\n",
    "pca_xtest = pca.transform(xtest)"
   ]
  },
  {
   "cell_type": "code",
   "execution_count": 35,
   "id": "21eec4b2",
   "metadata": {},
   "outputs": [
    {
     "data": {
      "text/plain": [
       "1"
      ]
     },
     "execution_count": 35,
     "metadata": {},
     "output_type": "execute_result"
    }
   ],
   "source": [
    "pca.n_components_"
   ]
  },
  {
   "cell_type": "code",
   "execution_count": 36,
   "id": "ec12c993",
   "metadata": {},
   "outputs": [
    {
     "data": {
      "text/plain": [
       "377"
      ]
     },
     "execution_count": 36,
     "metadata": {},
     "output_type": "execute_result"
    }
   ],
   "source": [
    "pca.n_features_"
   ]
  },
  {
   "cell_type": "code",
   "execution_count": 37,
   "id": "9aa5609e",
   "metadata": {},
   "outputs": [],
   "source": [
    "xtrain = train.drop(columns = [\"y\"])\n",
    "\n",
    "ytrain = train[\"y\"]"
   ]
  },
  {
   "cell_type": "code",
   "execution_count": 38,
   "id": "fd753281",
   "metadata": {},
   "outputs": [],
   "source": [
    "xtest = test"
   ]
  },
  {
   "cell_type": "code",
   "execution_count": 39,
   "id": "e44620fe",
   "metadata": {},
   "outputs": [
    {
     "name": "stdout",
     "output_type": "stream",
     "text": [
      "Requirement already satisfied: xgboost in c:\\users\\aniket\\anaconda3\\lib\\site-packages (1.5.1)\n",
      "Requirement already satisfied: scipy in c:\\users\\aniket\\anaconda3\\lib\\site-packages (from xgboost) (1.6.2)\n",
      "Requirement already satisfied: numpy in c:\\users\\aniket\\anaconda3\\lib\\site-packages (from xgboost) (1.20.1)\n",
      "Note: you may need to restart the kernel to use updated packages.\n"
     ]
    }
   ],
   "source": [
    "pip install xgboost"
   ]
  },
  {
   "cell_type": "code",
   "execution_count": 40,
   "id": "19b71d27",
   "metadata": {},
   "outputs": [
    {
     "name": "stderr",
     "output_type": "stream",
     "text": [
      "C:\\Users\\Aniket\\anaconda3\\lib\\site-packages\\xgboost\\sklearn.py:1224: UserWarning: The use of label encoder in XGBClassifier is deprecated and will be removed in a future release. To remove this warning, do the following: 1) Pass option use_label_encoder=False when constructing XGBClassifier object; and 2) Encode your labels (y) as integers starting with 0, i.e. 0, 1, 2, ..., [num_class - 1].\n",
      "  warnings.warn(label_encoder_deprecation_msg, UserWarning)\n"
     ]
    },
    {
     "name": "stdout",
     "output_type": "stream",
     "text": [
      "[13:07:18] WARNING: C:/Users/Administrator/workspace/xgboost-win64_release_1.5.1/src/learner.cc:1115: Starting in XGBoost 1.3.0, the default evaluation metric used with the objective 'multi:softprob' was changed from 'merror' to 'mlogloss'. Explicitly set eval_metric if you'd like to restore the old behavior.\n"
     ]
    },
    {
     "ename": "KeyboardInterrupt",
     "evalue": "",
     "output_type": "error",
     "traceback": [
      "\u001b[1;31m---------------------------------------------------------------------------\u001b[0m",
      "\u001b[1;31mKeyboardInterrupt\u001b[0m                         Traceback (most recent call last)",
      "\u001b[1;32m<ipython-input-40-a466e49a77aa>\u001b[0m in \u001b[0;36m<module>\u001b[1;34m\u001b[0m\n\u001b[0;32m      3\u001b[0m \u001b[0mmodel\u001b[0m \u001b[1;33m=\u001b[0m \u001b[0mXGBClassifier\u001b[0m\u001b[1;33m(\u001b[0m\u001b[0mn_estimators\u001b[0m \u001b[1;33m=\u001b[0m \u001b[1;36m100\u001b[0m\u001b[1;33m,\u001b[0m \u001b[0mmax_depth\u001b[0m \u001b[1;33m=\u001b[0m \u001b[1;36m5\u001b[0m\u001b[1;33m,\u001b[0m \u001b[0mlearning_rate\u001b[0m \u001b[1;33m=\u001b[0m \u001b[1;36m0.1\u001b[0m\u001b[1;33m)\u001b[0m\u001b[1;33m\u001b[0m\u001b[1;33m\u001b[0m\u001b[0m\n\u001b[0;32m      4\u001b[0m \u001b[1;33m\u001b[0m\u001b[0m\n\u001b[1;32m----> 5\u001b[1;33m \u001b[0mmodel\u001b[0m\u001b[1;33m.\u001b[0m\u001b[0mfit\u001b[0m\u001b[1;33m(\u001b[0m\u001b[0mxtrain\u001b[0m\u001b[1;33m,\u001b[0m \u001b[0mytrain\u001b[0m\u001b[1;33m)\u001b[0m\u001b[1;33m\u001b[0m\u001b[1;33m\u001b[0m\u001b[0m\n\u001b[0m",
      "\u001b[1;32m~\\anaconda3\\lib\\site-packages\\xgboost\\core.py\u001b[0m in \u001b[0;36minner_f\u001b[1;34m(*args, **kwargs)\u001b[0m\n\u001b[0;32m    504\u001b[0m         \u001b[1;32mfor\u001b[0m \u001b[0mk\u001b[0m\u001b[1;33m,\u001b[0m \u001b[0marg\u001b[0m \u001b[1;32min\u001b[0m \u001b[0mzip\u001b[0m\u001b[1;33m(\u001b[0m\u001b[0msig\u001b[0m\u001b[1;33m.\u001b[0m\u001b[0mparameters\u001b[0m\u001b[1;33m,\u001b[0m \u001b[0margs\u001b[0m\u001b[1;33m)\u001b[0m\u001b[1;33m:\u001b[0m\u001b[1;33m\u001b[0m\u001b[1;33m\u001b[0m\u001b[0m\n\u001b[0;32m    505\u001b[0m             \u001b[0mkwargs\u001b[0m\u001b[1;33m[\u001b[0m\u001b[0mk\u001b[0m\u001b[1;33m]\u001b[0m \u001b[1;33m=\u001b[0m \u001b[0marg\u001b[0m\u001b[1;33m\u001b[0m\u001b[1;33m\u001b[0m\u001b[0m\n\u001b[1;32m--> 506\u001b[1;33m         \u001b[1;32mreturn\u001b[0m \u001b[0mf\u001b[0m\u001b[1;33m(\u001b[0m\u001b[1;33m**\u001b[0m\u001b[0mkwargs\u001b[0m\u001b[1;33m)\u001b[0m\u001b[1;33m\u001b[0m\u001b[1;33m\u001b[0m\u001b[0m\n\u001b[0m\u001b[0;32m    507\u001b[0m \u001b[1;33m\u001b[0m\u001b[0m\n\u001b[0;32m    508\u001b[0m     \u001b[1;32mreturn\u001b[0m \u001b[0minner_f\u001b[0m\u001b[1;33m\u001b[0m\u001b[1;33m\u001b[0m\u001b[0m\n",
      "\u001b[1;32m~\\anaconda3\\lib\\site-packages\\xgboost\\sklearn.py\u001b[0m in \u001b[0;36mfit\u001b[1;34m(self, X, y, sample_weight, base_margin, eval_set, eval_metric, early_stopping_rounds, verbose, xgb_model, sample_weight_eval_set, base_margin_eval_set, feature_weights, callbacks)\u001b[0m\n\u001b[0;32m   1248\u001b[0m         )\n\u001b[0;32m   1249\u001b[0m \u001b[1;33m\u001b[0m\u001b[0m\n\u001b[1;32m-> 1250\u001b[1;33m         self._Booster = train(\n\u001b[0m\u001b[0;32m   1251\u001b[0m             \u001b[0mparams\u001b[0m\u001b[1;33m,\u001b[0m\u001b[1;33m\u001b[0m\u001b[1;33m\u001b[0m\u001b[0m\n\u001b[0;32m   1252\u001b[0m             \u001b[0mtrain_dmatrix\u001b[0m\u001b[1;33m,\u001b[0m\u001b[1;33m\u001b[0m\u001b[1;33m\u001b[0m\u001b[0m\n",
      "\u001b[1;32m~\\anaconda3\\lib\\site-packages\\xgboost\\training.py\u001b[0m in \u001b[0;36mtrain\u001b[1;34m(params, dtrain, num_boost_round, evals, obj, feval, maximize, early_stopping_rounds, evals_result, verbose_eval, xgb_model, callbacks)\u001b[0m\n\u001b[0;32m    186\u001b[0m     \u001b[0mBooster\u001b[0m \u001b[1;33m:\u001b[0m \u001b[0ma\u001b[0m \u001b[0mtrained\u001b[0m \u001b[0mbooster\u001b[0m \u001b[0mmodel\u001b[0m\u001b[1;33m\u001b[0m\u001b[1;33m\u001b[0m\u001b[0m\n\u001b[0;32m    187\u001b[0m     \"\"\"\n\u001b[1;32m--> 188\u001b[1;33m     bst = _train_internal(params, dtrain,\n\u001b[0m\u001b[0;32m    189\u001b[0m                           \u001b[0mnum_boost_round\u001b[0m\u001b[1;33m=\u001b[0m\u001b[0mnum_boost_round\u001b[0m\u001b[1;33m,\u001b[0m\u001b[1;33m\u001b[0m\u001b[1;33m\u001b[0m\u001b[0m\n\u001b[0;32m    190\u001b[0m                           \u001b[0mevals\u001b[0m\u001b[1;33m=\u001b[0m\u001b[0mevals\u001b[0m\u001b[1;33m,\u001b[0m\u001b[1;33m\u001b[0m\u001b[1;33m\u001b[0m\u001b[0m\n",
      "\u001b[1;32m~\\anaconda3\\lib\\site-packages\\xgboost\\training.py\u001b[0m in \u001b[0;36m_train_internal\u001b[1;34m(params, dtrain, num_boost_round, evals, obj, feval, xgb_model, callbacks, evals_result, maximize, verbose_eval, early_stopping_rounds)\u001b[0m\n\u001b[0;32m     79\u001b[0m         \u001b[1;32mif\u001b[0m \u001b[0mcallbacks\u001b[0m\u001b[1;33m.\u001b[0m\u001b[0mbefore_iteration\u001b[0m\u001b[1;33m(\u001b[0m\u001b[0mbst\u001b[0m\u001b[1;33m,\u001b[0m \u001b[0mi\u001b[0m\u001b[1;33m,\u001b[0m \u001b[0mdtrain\u001b[0m\u001b[1;33m,\u001b[0m \u001b[0mevals\u001b[0m\u001b[1;33m)\u001b[0m\u001b[1;33m:\u001b[0m\u001b[1;33m\u001b[0m\u001b[1;33m\u001b[0m\u001b[0m\n\u001b[0;32m     80\u001b[0m             \u001b[1;32mbreak\u001b[0m\u001b[1;33m\u001b[0m\u001b[1;33m\u001b[0m\u001b[0m\n\u001b[1;32m---> 81\u001b[1;33m         \u001b[0mbst\u001b[0m\u001b[1;33m.\u001b[0m\u001b[0mupdate\u001b[0m\u001b[1;33m(\u001b[0m\u001b[0mdtrain\u001b[0m\u001b[1;33m,\u001b[0m \u001b[0mi\u001b[0m\u001b[1;33m,\u001b[0m \u001b[0mobj\u001b[0m\u001b[1;33m)\u001b[0m\u001b[1;33m\u001b[0m\u001b[1;33m\u001b[0m\u001b[0m\n\u001b[0m\u001b[0;32m     82\u001b[0m         \u001b[1;32mif\u001b[0m \u001b[0mcallbacks\u001b[0m\u001b[1;33m.\u001b[0m\u001b[0mafter_iteration\u001b[0m\u001b[1;33m(\u001b[0m\u001b[0mbst\u001b[0m\u001b[1;33m,\u001b[0m \u001b[0mi\u001b[0m\u001b[1;33m,\u001b[0m \u001b[0mdtrain\u001b[0m\u001b[1;33m,\u001b[0m \u001b[0mevals\u001b[0m\u001b[1;33m)\u001b[0m\u001b[1;33m:\u001b[0m\u001b[1;33m\u001b[0m\u001b[1;33m\u001b[0m\u001b[0m\n\u001b[0;32m     83\u001b[0m             \u001b[1;32mbreak\u001b[0m\u001b[1;33m\u001b[0m\u001b[1;33m\u001b[0m\u001b[0m\n",
      "\u001b[1;32m~\\anaconda3\\lib\\site-packages\\xgboost\\core.py\u001b[0m in \u001b[0;36mupdate\u001b[1;34m(self, dtrain, iteration, fobj)\u001b[0m\n\u001b[0;32m   1678\u001b[0m \u001b[1;33m\u001b[0m\u001b[0m\n\u001b[0;32m   1679\u001b[0m         \u001b[1;32mif\u001b[0m \u001b[0mfobj\u001b[0m \u001b[1;32mis\u001b[0m \u001b[1;32mNone\u001b[0m\u001b[1;33m:\u001b[0m\u001b[1;33m\u001b[0m\u001b[1;33m\u001b[0m\u001b[0m\n\u001b[1;32m-> 1680\u001b[1;33m             _check_call(_LIB.XGBoosterUpdateOneIter(self.handle,\n\u001b[0m\u001b[0;32m   1681\u001b[0m                                                     \u001b[0mctypes\u001b[0m\u001b[1;33m.\u001b[0m\u001b[0mc_int\u001b[0m\u001b[1;33m(\u001b[0m\u001b[0miteration\u001b[0m\u001b[1;33m)\u001b[0m\u001b[1;33m,\u001b[0m\u001b[1;33m\u001b[0m\u001b[1;33m\u001b[0m\u001b[0m\n\u001b[0;32m   1682\u001b[0m                                                     dtrain.handle))\n",
      "\u001b[1;31mKeyboardInterrupt\u001b[0m: "
     ]
    }
   ],
   "source": [
    "from xgboost import XGBClassifier \n",
    "\n",
    "model = XGBClassifier(n_estimators = 100, max_depth = 5, learning_rate = 0.1) \n",
    "\n",
    "model.fit(xtrain, ytrain)"
   ]
  },
  {
   "cell_type": "code",
   "execution_count": null,
   "id": "1173215c",
   "metadata": {},
   "outputs": [],
   "source": []
  }
 ],
 "metadata": {
  "kernelspec": {
   "display_name": "Python 3",
   "language": "python",
   "name": "python3"
  },
  "language_info": {
   "codemirror_mode": {
    "name": "ipython",
    "version": 3
   },
   "file_extension": ".py",
   "mimetype": "text/x-python",
   "name": "python",
   "nbconvert_exporter": "python",
   "pygments_lexer": "ipython3",
   "version": "3.8.8"
  }
 },
 "nbformat": 4,
 "nbformat_minor": 5
}
